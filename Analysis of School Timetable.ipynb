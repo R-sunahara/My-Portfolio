{
 "cells": [
  {
   "cell_type": "markdown",
   "metadata": {},
   "source": [
    "# ***アルバイト先の英会話塾のレッスン記録データをpythonで分析し、時間割を最適化してみました***"
   ]
  },
  {
   "cell_type": "code",
   "execution_count": 1,
   "metadata": {},
   "outputs": [],
   "source": [
    "import gc\n",
    "gc.collect()\n",
    "import pandas as pd\n",
    "import numpy as np\n",
    "import seaborn as sns\n",
    "%matplotlib inline\n",
    "import matplotlib.pyplot as plt\n",
    "from sklearn import preprocessing\n",
    "import re"
   ]
  },
  {
   "cell_type": "markdown",
   "metadata": {},
   "source": [
    "# **データの下処理**  ※生徒の氏名は実名ではありません。"
   ]
  },
  {
   "cell_type": "markdown",
   "metadata": {},
   "source": [
    "### 二つのcsvデータのカラム名を揃えて、一つのデータフレームに統合する。"
   ]
  },
  {
   "cell_type": "code",
   "execution_count": 2,
   "metadata": {},
   "outputs": [
    {
     "name": "stdout",
     "output_type": "stream",
     "text": [
      "元のデータ\n",
      "df1↓\n"
     ]
    },
    {
     "data": {
      "text/html": [
       "<div>\n",
       "<style scoped>\n",
       "    .dataframe tbody tr th:only-of-type {\n",
       "        vertical-align: middle;\n",
       "    }\n",
       "\n",
       "    .dataframe tbody tr th {\n",
       "        vertical-align: top;\n",
       "    }\n",
       "\n",
       "    .dataframe thead th {\n",
       "        text-align: right;\n",
       "    }\n",
       "</style>\n",
       "<table border=\"1\" class=\"dataframe\">\n",
       "  <thead>\n",
       "    <tr style=\"text-align: right;\">\n",
       "      <th></th>\n",
       "      <th>Unnamed: 0</th>\n",
       "      <th>タイムスタンプ</th>\n",
       "      <th>レッスン内容</th>\n",
       "      <th>氏名</th>\n",
       "      <th>レッスン内容　（例：callan 3 237-242）</th>\n",
       "      <th>先生方へのお知らせ・メモ</th>\n",
       "    </tr>\n",
       "  </thead>\n",
       "  <tbody>\n",
       "    <tr>\n",
       "      <th>0</th>\n",
       "      <td>0</td>\n",
       "      <td>10/17/2020 10:22:28</td>\n",
       "      <td>初級</td>\n",
       "      <td>その他</td>\n",
       "      <td>テスト</td>\n",
       "      <td>NaN</td>\n",
       "    </tr>\n",
       "    <tr>\n",
       "      <th>1</th>\n",
       "      <td>1</td>\n",
       "      <td>10/17/2020 12:21:30</td>\n",
       "      <td>初級</td>\n",
       "      <td>明石家さんま, ローラ</td>\n",
       "      <td>Callan4 289-295</td>\n",
       "      <td>NaN</td>\n",
       "    </tr>\n",
       "    <tr>\n",
       "      <th>2</th>\n",
       "      <td>2</td>\n",
       "      <td>10/17/2020 16:20:50</td>\n",
       "      <td>その他</td>\n",
       "      <td>福士蒼汰</td>\n",
       "      <td>ディクテーション</td>\n",
       "      <td>過去分詞の後置修飾の長めの文章のリスニングが苦手なようです。</td>\n",
       "    </tr>\n",
       "    <tr>\n",
       "      <th>3</th>\n",
       "      <td>3</td>\n",
       "      <td>10/17/2020 17:27:52</td>\n",
       "      <td>中上級</td>\n",
       "      <td>イモトアヤコ</td>\n",
       "      <td>Callan10 933-939</td>\n",
       "      <td>NaN</td>\n",
       "    </tr>\n",
       "    <tr>\n",
       "      <th>4</th>\n",
       "      <td>4</td>\n",
       "      <td>10/17/2020 19:03:48</td>\n",
       "      <td>中級</td>\n",
       "      <td>岡田准一</td>\n",
       "      <td>callan5 382-383</td>\n",
       "      <td>NaN</td>\n",
       "    </tr>\n",
       "  </tbody>\n",
       "</table>\n",
       "</div>"
      ],
      "text/plain": [
       "   Unnamed: 0              タイムスタンプ レッスン内容           氏名  \\\n",
       "0           0  10/17/2020 10:22:28     初級          その他   \n",
       "1           1  10/17/2020 12:21:30     初級  明石家さんま, ローラ   \n",
       "2           2  10/17/2020 16:20:50    その他         福士蒼汰   \n",
       "3           3  10/17/2020 17:27:52    中上級       イモトアヤコ   \n",
       "4           4  10/17/2020 19:03:48     中級         岡田准一   \n",
       "\n",
       "  レッスン内容　（例：callan 3 237-242）                    先生方へのお知らせ・メモ  \n",
       "0                         テスト                             NaN  \n",
       "1             Callan4 289-295                             NaN  \n",
       "2                    ディクテーション  過去分詞の後置修飾の長めの文章のリスニングが苦手なようです。  \n",
       "3           Callan10 933-939                              NaN  \n",
       "4             callan5 382-383                             NaN  "
      ]
     },
     "metadata": {},
     "output_type": "display_data"
    },
    {
     "name": "stdout",
     "output_type": "stream",
     "text": [
      "df2↓\n"
     ]
    },
    {
     "data": {
      "text/html": [
       "<div>\n",
       "<style scoped>\n",
       "    .dataframe tbody tr th:only-of-type {\n",
       "        vertical-align: middle;\n",
       "    }\n",
       "\n",
       "    .dataframe tbody tr th {\n",
       "        vertical-align: top;\n",
       "    }\n",
       "\n",
       "    .dataframe thead th {\n",
       "        text-align: right;\n",
       "    }\n",
       "</style>\n",
       "<table border=\"1\" class=\"dataframe\">\n",
       "  <thead>\n",
       "    <tr style=\"text-align: right;\">\n",
       "      <th></th>\n",
       "      <th>Unnamed: 0</th>\n",
       "      <th>タイムスタンプ</th>\n",
       "      <th>氏名</th>\n",
       "      <th>Unnamed: 2</th>\n",
       "      <th>授業内容（記入例：カラン〇　100-102)</th>\n",
       "      <th>レッスン内容</th>\n",
       "      <th>不明・その他の場合メモ</th>\n",
       "    </tr>\n",
       "  </thead>\n",
       "  <tbody>\n",
       "    <tr>\n",
       "      <th>0</th>\n",
       "      <td>4</td>\n",
       "      <td>6/24/2020 17:32:21</td>\n",
       "      <td>いとうあさこ, 山田孝之</td>\n",
       "      <td>NaN</td>\n",
       "      <td>シャドーイング</td>\n",
       "      <td>その他</td>\n",
       "      <td>NaN</td>\n",
       "    </tr>\n",
       "    <tr>\n",
       "      <th>1</th>\n",
       "      <td>5</td>\n",
       "      <td>6/24/2020 18:02:12</td>\n",
       "      <td>渡辺直美, いとうあさこ</td>\n",
       "      <td>NaN</td>\n",
       "      <td>Callan 3&amp;4</td>\n",
       "      <td>中級</td>\n",
       "      <td>NaN</td>\n",
       "    </tr>\n",
       "    <tr>\n",
       "      <th>2</th>\n",
       "      <td>6</td>\n",
       "      <td>6/24/2020 18:27:41</td>\n",
       "      <td>山田孝之</td>\n",
       "      <td>NaN</td>\n",
       "      <td>中学英語　Whenの使い方、Whyの答え方</td>\n",
       "      <td>その他</td>\n",
       "      <td>NaN</td>\n",
       "    </tr>\n",
       "    <tr>\n",
       "      <th>3</th>\n",
       "      <td>7</td>\n",
       "      <td>6/24/2020 19:05:19</td>\n",
       "      <td>福山雅治</td>\n",
       "      <td>NaN</td>\n",
       "      <td>Callan 8&amp;9 lesson 98</td>\n",
       "      <td>中上級</td>\n",
       "      <td>NaN</td>\n",
       "    </tr>\n",
       "    <tr>\n",
       "      <th>4</th>\n",
       "      <td>8</td>\n",
       "      <td>6/24/2020 19:30:51</td>\n",
       "      <td>石原さとみ, 岡田准一</td>\n",
       "      <td>NaN</td>\n",
       "      <td>カラン５　p315-318</td>\n",
       "      <td>中級</td>\n",
       "      <td>りささんは本来カラン２のp97から。</td>\n",
       "    </tr>\n",
       "  </tbody>\n",
       "</table>\n",
       "</div>"
      ],
      "text/plain": [
       "   Unnamed: 0             タイムスタンプ            氏名  Unnamed: 2  \\\n",
       "0           4  6/24/2020 17:32:21  いとうあさこ, 山田孝之         NaN   \n",
       "1           5  6/24/2020 18:02:12  渡辺直美, いとうあさこ         NaN   \n",
       "2           6  6/24/2020 18:27:41          山田孝之         NaN   \n",
       "3           7  6/24/2020 19:05:19          福山雅治         NaN   \n",
       "4           8  6/24/2020 19:30:51   石原さとみ, 岡田准一         NaN   \n",
       "\n",
       "  授業内容（記入例：カラン〇　100-102) レッスン内容         不明・その他の場合メモ  \n",
       "0                シャドーイング    その他                 NaN  \n",
       "1             Callan 3&4     中級                 NaN  \n",
       "2  中学英語　Whenの使い方、Whyの答え方    その他                 NaN  \n",
       "3   Callan 8&9 lesson 98    中上級                 NaN  \n",
       "4          カラン５　p315-318     中級  りささんは本来カラン２のp97から。  "
      ]
     },
     "metadata": {},
     "output_type": "display_data"
    },
    {
     "name": "stdout",
     "output_type": "stream",
     "text": [
      "\n",
      "\n",
      "\n",
      "二つのデータフレームを統合し、整理したdf ↓\n"
     ]
    },
    {
     "data": {
      "text/html": [
       "<div>\n",
       "<style scoped>\n",
       "    .dataframe tbody tr th:only-of-type {\n",
       "        vertical-align: middle;\n",
       "    }\n",
       "\n",
       "    .dataframe tbody tr th {\n",
       "        vertical-align: top;\n",
       "    }\n",
       "\n",
       "    .dataframe thead th {\n",
       "        text-align: right;\n",
       "    }\n",
       "</style>\n",
       "<table border=\"1\" class=\"dataframe\">\n",
       "  <thead>\n",
       "    <tr style=\"text-align: right;\">\n",
       "      <th></th>\n",
       "      <th>Time</th>\n",
       "      <th>Stage</th>\n",
       "      <th>Name</th>\n",
       "    </tr>\n",
       "  </thead>\n",
       "  <tbody>\n",
       "    <tr>\n",
       "      <th>0</th>\n",
       "      <td>10/17/2020 10:22:28</td>\n",
       "      <td>初級</td>\n",
       "      <td>その他</td>\n",
       "    </tr>\n",
       "    <tr>\n",
       "      <th>1</th>\n",
       "      <td>10/17/2020 12:21:30</td>\n",
       "      <td>初級</td>\n",
       "      <td>明石家さんま, ローラ</td>\n",
       "    </tr>\n",
       "    <tr>\n",
       "      <th>2</th>\n",
       "      <td>10/17/2020 16:20:50</td>\n",
       "      <td>その他</td>\n",
       "      <td>福士蒼汰</td>\n",
       "    </tr>\n",
       "    <tr>\n",
       "      <th>3</th>\n",
       "      <td>10/17/2020 17:27:52</td>\n",
       "      <td>中上級</td>\n",
       "      <td>イモトアヤコ</td>\n",
       "    </tr>\n",
       "    <tr>\n",
       "      <th>4</th>\n",
       "      <td>10/17/2020 19:03:48</td>\n",
       "      <td>中級</td>\n",
       "      <td>岡田准一</td>\n",
       "    </tr>\n",
       "  </tbody>\n",
       "</table>\n",
       "</div>"
      ],
      "text/plain": [
       "                  Time Stage         Name\n",
       "0  10/17/2020 10:22:28    初級          その他\n",
       "1  10/17/2020 12:21:30    初級  明石家さんま, ローラ\n",
       "2  10/17/2020 16:20:50   その他         福士蒼汰\n",
       "3  10/17/2020 17:27:52   中上級       イモトアヤコ\n",
       "4  10/17/2020 19:03:48    中級         岡田准一"
      ]
     },
     "metadata": {},
     "output_type": "display_data"
    }
   ],
   "source": [
    "#csvからデータを取得\n",
    "df1 = pd.read_csv('Attendance data from 10_12-12_26.csv')\n",
    "df2 = pd.read_csv('Attendance data from 06_28-10_17.csv')\n",
    "print('元のデータ\\ndf1↓')\n",
    "display(df1.head())\n",
    "print('df2↓')\n",
    "display(df2.head())\n",
    "#二つのデータフレームをマージするために必要なカラムの名前を揃える\n",
    "df1 = df1.drop(columns = ['Unnamed: 0','レッスン内容　（例：callan 3 237-242）', '先生方へのお知らせ・メモ'])\n",
    "df2 = df2.drop(columns = ['Unnamed: 0','授業内容（記入例：カラン〇　100-102)', 'Unnamed: 2', '不明・その他の場合メモ'])\n",
    "\n",
    "#二つのデータフレームをマージ\n",
    "df = df1.merge(df2,how='outer')\n",
    "# df1,df2のメモリを解放\n",
    "del df1,df2\n",
    "#カラム名を変更\n",
    "df = df.rename(columns={'タイムスタンプ':'Time','レッスン内容':'Stage','氏名':'Name'})\n",
    "print('\\n\\n\\n二つのデータフレームを統合し、整理したdf ↓')\n",
    "display(df.head())"
   ]
  },
  {
   "cell_type": "markdown",
   "metadata": {},
   "source": [
    "### 生徒の氏名データのカラムdf['Name']を、一人一人の氏名ごとのレコードに分割する"
   ]
  },
  {
   "cell_type": "code",
   "execution_count": 3,
   "metadata": {},
   "outputs": [
    {
     "name": "stdout",
     "output_type": "stream",
     "text": [
      "修正後のdf↓\n"
     ]
    },
    {
     "data": {
      "text/html": [
       "<div>\n",
       "<style scoped>\n",
       "    .dataframe tbody tr th:only-of-type {\n",
       "        vertical-align: middle;\n",
       "    }\n",
       "\n",
       "    .dataframe tbody tr th {\n",
       "        vertical-align: top;\n",
       "    }\n",
       "\n",
       "    .dataframe thead th {\n",
       "        text-align: right;\n",
       "    }\n",
       "</style>\n",
       "<table border=\"1\" class=\"dataframe\">\n",
       "  <thead>\n",
       "    <tr style=\"text-align: right;\">\n",
       "      <th></th>\n",
       "      <th>Name</th>\n",
       "      <th>Stage</th>\n",
       "      <th>Time</th>\n",
       "    </tr>\n",
       "  </thead>\n",
       "  <tbody>\n",
       "    <tr>\n",
       "      <th>0</th>\n",
       "      <td>その他</td>\n",
       "      <td>初級</td>\n",
       "      <td>10/17/2020 10:22:28</td>\n",
       "    </tr>\n",
       "    <tr>\n",
       "      <th>1</th>\n",
       "      <td>明石家さんま</td>\n",
       "      <td>初級</td>\n",
       "      <td>10/17/2020 12:21:30</td>\n",
       "    </tr>\n",
       "    <tr>\n",
       "      <th>2</th>\n",
       "      <td>ローラ</td>\n",
       "      <td>初級</td>\n",
       "      <td>10/17/2020 12:21:30</td>\n",
       "    </tr>\n",
       "    <tr>\n",
       "      <th>3</th>\n",
       "      <td>福士蒼汰</td>\n",
       "      <td>その他</td>\n",
       "      <td>10/17/2020 16:20:50</td>\n",
       "    </tr>\n",
       "    <tr>\n",
       "      <th>4</th>\n",
       "      <td>イモトアヤコ</td>\n",
       "      <td>中上級</td>\n",
       "      <td>10/17/2020 17:27:52</td>\n",
       "    </tr>\n",
       "  </tbody>\n",
       "</table>\n",
       "</div>"
      ],
      "text/plain": [
       "     Name Stage                 Time\n",
       "0     その他    初級  10/17/2020 10:22:28\n",
       "1  明石家さんま    初級  10/17/2020 12:21:30\n",
       "2     ローラ    初級  10/17/2020 12:21:30\n",
       "3    福士蒼汰   その他  10/17/2020 16:20:50\n",
       "4  イモトアヤコ   中上級  10/17/2020 17:27:52"
      ]
     },
     "metadata": {},
     "output_type": "display_data"
    }
   ],
   "source": [
    "df['Name'] = df['Name'].apply(lambda x: x.split(','))\n",
    "df = pd.DataFrame({\n",
    "    'Name':np.concatenate(df['Name'].values),\n",
    "    'Stage':df['Stage'].repeat(df['Name'].str.len()),\n",
    "    'Time':df['Time'].repeat(df['Name'].str.len())\n",
    "})\n",
    "df = df.reset_index(drop=True)\n",
    "\n",
    "print(\"修正後のdf↓\")\n",
    "display(df.head())"
   ]
  },
  {
   "cell_type": "markdown",
   "metadata": {},
   "source": [
    "### df['Time']のカラムを分割し、月、日、月、分、曜日のカラムをつくる"
   ]
  },
  {
   "cell_type": "code",
   "execution_count": 4,
   "metadata": {},
   "outputs": [
    {
     "name": "stdout",
     "output_type": "stream",
     "text": [
      "修正後のdf↓\n"
     ]
    },
    {
     "data": {
      "text/html": [
       "<div>\n",
       "<style scoped>\n",
       "    .dataframe tbody tr th:only-of-type {\n",
       "        vertical-align: middle;\n",
       "    }\n",
       "\n",
       "    .dataframe tbody tr th {\n",
       "        vertical-align: top;\n",
       "    }\n",
       "\n",
       "    .dataframe thead th {\n",
       "        text-align: right;\n",
       "    }\n",
       "</style>\n",
       "<table border=\"1\" class=\"dataframe\">\n",
       "  <thead>\n",
       "    <tr style=\"text-align: right;\">\n",
       "      <th></th>\n",
       "      <th>Name</th>\n",
       "      <th>Stage</th>\n",
       "      <th>Month</th>\n",
       "      <th>Day</th>\n",
       "      <th>Hour</th>\n",
       "      <th>Min</th>\n",
       "      <th>Day of Week</th>\n",
       "    </tr>\n",
       "  </thead>\n",
       "  <tbody>\n",
       "    <tr>\n",
       "      <th>0</th>\n",
       "      <td>その他</td>\n",
       "      <td>初級</td>\n",
       "      <td>10</td>\n",
       "      <td>17</td>\n",
       "      <td>10</td>\n",
       "      <td>22</td>\n",
       "      <td>5</td>\n",
       "    </tr>\n",
       "    <tr>\n",
       "      <th>1</th>\n",
       "      <td>明石家さんま</td>\n",
       "      <td>初級</td>\n",
       "      <td>10</td>\n",
       "      <td>17</td>\n",
       "      <td>12</td>\n",
       "      <td>21</td>\n",
       "      <td>5</td>\n",
       "    </tr>\n",
       "    <tr>\n",
       "      <th>2</th>\n",
       "      <td>ローラ</td>\n",
       "      <td>初級</td>\n",
       "      <td>10</td>\n",
       "      <td>17</td>\n",
       "      <td>12</td>\n",
       "      <td>21</td>\n",
       "      <td>5</td>\n",
       "    </tr>\n",
       "    <tr>\n",
       "      <th>3</th>\n",
       "      <td>福士蒼汰</td>\n",
       "      <td>その他</td>\n",
       "      <td>10</td>\n",
       "      <td>17</td>\n",
       "      <td>16</td>\n",
       "      <td>20</td>\n",
       "      <td>5</td>\n",
       "    </tr>\n",
       "    <tr>\n",
       "      <th>4</th>\n",
       "      <td>イモトアヤコ</td>\n",
       "      <td>中上級</td>\n",
       "      <td>10</td>\n",
       "      <td>17</td>\n",
       "      <td>17</td>\n",
       "      <td>27</td>\n",
       "      <td>5</td>\n",
       "    </tr>\n",
       "  </tbody>\n",
       "</table>\n",
       "</div>"
      ],
      "text/plain": [
       "     Name Stage  Month  Day  Hour  Min  Day of Week\n",
       "0     その他    初級     10   17    10   22            5\n",
       "1  明石家さんま    初級     10   17    12   21            5\n",
       "2     ローラ    初級     10   17    12   21            5\n",
       "3    福士蒼汰   その他     10   17    16   20            5\n",
       "4  イモトアヤコ   中上級     10   17    17   27            5"
      ]
     },
     "metadata": {},
     "output_type": "display_data"
    }
   ],
   "source": [
    "df['Month'] = df['Time'].apply(lambda x: int(re.split('[/:]',x)[0]))\n",
    "df['Day'] = df['Time'].apply(lambda x: int(re.split('[/:]',x)[1]))\n",
    "df['Hour'] = df['Time'].apply(lambda x: int(re.split('[/:]',x)[2][-2:]))\n",
    "df['Min'] = df['Time'].apply(lambda x: int(re.split('[/:]',x)[3]))\n",
    "#df['Time']を削除\n",
    "df = df.drop('Time',axis = 1)\n",
    "#外れ値を除く\n",
    "df = df[df['Month']!=2020]\n",
    "\n",
    "#月日をもとに曜日のカラムを作成（月：0、火:1、...、日:6）\n",
    "import datetime\n",
    "import locale\n",
    "df['Day of Week'] = '0'\n",
    "datetime.datetime(2020, 1, 1).strftime('%a')\n",
    "\n",
    "def get_day_of_week(x):\n",
    "    y = datetime.datetime(2020, x['Month'], x['Day']).strftime('%a')\n",
    "    if y=='Mon': return 0\n",
    "    elif y=='Tue': return 1\n",
    "    elif y=='Wed': return 2\n",
    "    elif y=='Thu': return 3\n",
    "    elif y=='Fri': return 4\n",
    "    elif y=='Sat': return 5\n",
    "    elif y=='Sun': return 6\n",
    "    else: return 100\n",
    "\n",
    "df['Day of Week'] = df.apply(get_day_of_week,axis=1)    \n",
    "\n",
    "print(\"修正後のdf↓\")\n",
    "display(df.head())"
   ]
  },
  {
   "cell_type": "markdown",
   "metadata": {},
   "source": [
    "### df['Hour'],df['Min']のデータをもとに、それが何コマ目のレッスンだったかを表すカラムdf['Time Zone']を作成"
   ]
  },
  {
   "cell_type": "code",
   "execution_count": 5,
   "metadata": {},
   "outputs": [
    {
     "name": "stdout",
     "output_type": "stream",
     "text": [
      "修正後のdf↓\n"
     ]
    },
    {
     "data": {
      "text/html": [
       "<div>\n",
       "<style scoped>\n",
       "    .dataframe tbody tr th:only-of-type {\n",
       "        vertical-align: middle;\n",
       "    }\n",
       "\n",
       "    .dataframe tbody tr th {\n",
       "        vertical-align: top;\n",
       "    }\n",
       "\n",
       "    .dataframe thead th {\n",
       "        text-align: right;\n",
       "    }\n",
       "</style>\n",
       "<table border=\"1\" class=\"dataframe\">\n",
       "  <thead>\n",
       "    <tr style=\"text-align: right;\">\n",
       "      <th></th>\n",
       "      <th>Name</th>\n",
       "      <th>Stage</th>\n",
       "      <th>Month</th>\n",
       "      <th>Day</th>\n",
       "      <th>Day of Week</th>\n",
       "      <th>Time Zone</th>\n",
       "    </tr>\n",
       "  </thead>\n",
       "  <tbody>\n",
       "    <tr>\n",
       "      <th>0</th>\n",
       "      <td>その他</td>\n",
       "      <td>初級</td>\n",
       "      <td>10</td>\n",
       "      <td>17</td>\n",
       "      <td>5</td>\n",
       "      <td>0</td>\n",
       "    </tr>\n",
       "    <tr>\n",
       "      <th>1</th>\n",
       "      <td>明石家さんま</td>\n",
       "      <td>初級</td>\n",
       "      <td>10</td>\n",
       "      <td>17</td>\n",
       "      <td>5</td>\n",
       "      <td>1</td>\n",
       "    </tr>\n",
       "    <tr>\n",
       "      <th>2</th>\n",
       "      <td>ローラ</td>\n",
       "      <td>初級</td>\n",
       "      <td>10</td>\n",
       "      <td>17</td>\n",
       "      <td>5</td>\n",
       "      <td>1</td>\n",
       "    </tr>\n",
       "    <tr>\n",
       "      <th>3</th>\n",
       "      <td>福士蒼汰</td>\n",
       "      <td>その他</td>\n",
       "      <td>10</td>\n",
       "      <td>17</td>\n",
       "      <td>5</td>\n",
       "      <td>4</td>\n",
       "    </tr>\n",
       "    <tr>\n",
       "      <th>4</th>\n",
       "      <td>イモトアヤコ</td>\n",
       "      <td>中上級</td>\n",
       "      <td>10</td>\n",
       "      <td>17</td>\n",
       "      <td>5</td>\n",
       "      <td>5</td>\n",
       "    </tr>\n",
       "  </tbody>\n",
       "</table>\n",
       "</div>"
      ],
      "text/plain": [
       "     Name Stage  Month  Day  Day of Week  Time Zone\n",
       "0     その他    初級     10   17            5          0\n",
       "1  明石家さんま    初級     10   17            5          1\n",
       "2     ローラ    初級     10   17            5          1\n",
       "3    福士蒼汰   その他     10   17            5          4\n",
       "4  イモトアヤコ   中上級     10   17            5          5"
      ]
     },
     "metadata": {},
     "output_type": "display_data"
    }
   ],
   "source": [
    "def define_time_zone(x):\n",
    "        if (x['Hour']==10 or (x['Hour']==11 and x['Min']<=15)): return 0\n",
    "        elif (((x['Hour']==11 and 15<x['Min']<=59)) or (x['Hour']==12 and x['Min']<=59)): return 1\n",
    "        elif (((x['Hour']==13) or (x['Hour']==14 and x['Min']<=45))): return 2\n",
    "        elif (((x['Hour']==14 and 45<x['Min']<=59)) or (x['Hour']==15 and x['Min']<=45)): return 3\n",
    "        elif (((x['Hour']==15 and 45<x['Min']<=59)) or (x['Hour']==16 and x['Min']<=45)): return 4\n",
    "        elif (((x['Hour']==16 and 45<x['Min']<=59)) or (x['Hour']==17 and x['Min']<=45)): return 5\n",
    "        elif (((x['Hour']==17 and 45<x['Min']<=59)) or (x['Hour']==18 and x['Min']<=45)): return 6\n",
    "        elif (((x['Hour']==18 and 45<x['Min']<=59)) or (x['Hour']==19 and x['Min']<=45)): return 7\n",
    "        elif (((x['Hour']==19 and 45<x['Min']<=59)) or (x['Hour']==20 and x['Min']<=59)): return 8\n",
    "        else: return 100\n",
    "\n",
    "df['Time Zone'] = df.apply(define_time_zone,axis=1)\n",
    "df = df[df['Time Zone']!=100]\n",
    "\n",
    "#もう使わないカラムを削除\n",
    "df = df.drop(['Hour','Min'],axis = 1)\n",
    "\n",
    "#10月以降のデータのみ使用する\n",
    "df = df[10<=df['Month']]\n",
    "\n",
    "print(\"修正後のdf↓\")\n",
    "display(df.head())"
   ]
  },
  {
   "cell_type": "markdown",
   "metadata": {},
   "source": [
    "### 生徒の名前に応じて割り当てる'Name Label'のカラムを作成"
   ]
  },
  {
   "cell_type": "code",
   "execution_count": 6,
   "metadata": {},
   "outputs": [
    {
     "name": "stdout",
     "output_type": "stream",
     "text": [
      "修正後のdf↓\n"
     ]
    },
    {
     "data": {
      "text/html": [
       "<div>\n",
       "<style scoped>\n",
       "    .dataframe tbody tr th:only-of-type {\n",
       "        vertical-align: middle;\n",
       "    }\n",
       "\n",
       "    .dataframe tbody tr th {\n",
       "        vertical-align: top;\n",
       "    }\n",
       "\n",
       "    .dataframe thead th {\n",
       "        text-align: right;\n",
       "    }\n",
       "</style>\n",
       "<table border=\"1\" class=\"dataframe\">\n",
       "  <thead>\n",
       "    <tr style=\"text-align: right;\">\n",
       "      <th></th>\n",
       "      <th>Name Label</th>\n",
       "      <th>Name</th>\n",
       "      <th>Stage</th>\n",
       "      <th>Month</th>\n",
       "      <th>Day</th>\n",
       "      <th>Day of Week</th>\n",
       "      <th>Time Zone</th>\n",
       "    </tr>\n",
       "  </thead>\n",
       "  <tbody>\n",
       "    <tr>\n",
       "      <th>1</th>\n",
       "      <td>18</td>\n",
       "      <td>明石家さんま</td>\n",
       "      <td>初級</td>\n",
       "      <td>10</td>\n",
       "      <td>17</td>\n",
       "      <td>5</td>\n",
       "      <td>1</td>\n",
       "    </tr>\n",
       "    <tr>\n",
       "      <th>2</th>\n",
       "      <td>6</td>\n",
       "      <td>ローラ</td>\n",
       "      <td>初級</td>\n",
       "      <td>10</td>\n",
       "      <td>17</td>\n",
       "      <td>5</td>\n",
       "      <td>1</td>\n",
       "    </tr>\n",
       "    <tr>\n",
       "      <th>3</th>\n",
       "      <td>25</td>\n",
       "      <td>福士蒼汰</td>\n",
       "      <td>その他</td>\n",
       "      <td>10</td>\n",
       "      <td>17</td>\n",
       "      <td>5</td>\n",
       "      <td>4</td>\n",
       "    </tr>\n",
       "    <tr>\n",
       "      <th>4</th>\n",
       "      <td>2</td>\n",
       "      <td>イモトアヤコ</td>\n",
       "      <td>中上級</td>\n",
       "      <td>10</td>\n",
       "      <td>17</td>\n",
       "      <td>5</td>\n",
       "      <td>5</td>\n",
       "    </tr>\n",
       "    <tr>\n",
       "      <th>5</th>\n",
       "      <td>16</td>\n",
       "      <td>岡田准一</td>\n",
       "      <td>中級</td>\n",
       "      <td>10</td>\n",
       "      <td>17</td>\n",
       "      <td>5</td>\n",
       "      <td>7</td>\n",
       "    </tr>\n",
       "  </tbody>\n",
       "</table>\n",
       "</div>"
      ],
      "text/plain": [
       "   Name Label    Name Stage  Month  Day  Day of Week  Time Zone\n",
       "1          18  明石家さんま    初級     10   17            5          1\n",
       "2           6     ローラ    初級     10   17            5          1\n",
       "3          25    福士蒼汰   その他     10   17            5          4\n",
       "4           2  イモトアヤコ   中上級     10   17            5          5\n",
       "5          16    岡田准一    中級     10   17            5          7"
      ]
     },
     "metadata": {},
     "output_type": "display_data"
    }
   ],
   "source": [
    "def define_name_label(x):\n",
    "        if x['Name']=='いとうあさこ'       : return 0\n",
    "        elif x['Name']=='イチロー'       : return 1\n",
    "        elif x['Name']=='イモトアヤコ'       : return 2\n",
    "        elif x['Name']=='サンドウィッチマン': return 3\n",
    "        elif x['Name']=='タモリ'       : return 4\n",
    "        elif x['Name']=='マツコ・デラックス'      : return 5\n",
    "        elif x['Name']=='ローラ'       : return 6\n",
    "        elif x['Name']=='上戸彩'    : return 7\n",
    "        elif x['Name']=='出川哲郎'      : return 8\n",
    "        elif x['Name']=='北川景子'     : return 9\n",
    "        elif x['Name']=='博多華丸・大吉'     : return 10\n",
    "        elif x['Name']=='吉田羊'      : return 11\n",
    "        elif x['Name']=='大泉洋'  : return 12\n",
    "        elif x['Name']=='天海祐希': return 13\n",
    "        elif x['Name']=='宇多田ヒカル': return 14\n",
    "        elif x['Name']=='山田孝之': return 15\n",
    "        elif x['Name']=='岡田准一': return 16\n",
    "        elif x['Name']=='所ジョージ': return 17\n",
    "        elif x['Name']=='明石家さんま': return 18\n",
    "        elif x['Name']== '浅田真央': return 19\n",
    "        elif x['Name']=='深田恭子': return 20\n",
    "        elif x['Name']=='渡辺直美': return 21\n",
    "        elif x['Name']=='相葉雅紀': return 22\n",
    "        elif x['Name']== '石原さとみ': return 23\n",
    "        elif x['Name']=='石田ゆり子': return 24\n",
    "        elif x['Name']== '福士蒼汰': return 25\n",
    "        elif x['Name']=='福山雅治': return 26\n",
    "        elif x['Name']=='米倉涼子': return 27\n",
    "        elif x['Name']=='綾瀬はるか': return 28\n",
    "        elif x['Name']=='阿部サダヲ': return 29\n",
    "        elif x['Name']=='阿部寛': return 30\n",
    "        else: return 100\n",
    "\n",
    "#生徒の名前に含まれている空白を埋める\n",
    "df['Name'] = df['Name'].apply(lambda x: x.strip())\n",
    "#外れ値を除く\n",
    "df = df[df['Name']!='その他']\n",
    "df = df[df['Name']!='テスト']\n",
    "\n",
    "#生徒の名前に応じて割り当てる'Name Label'のカラムを作成\n",
    "df.insert(0, 'Name Label', 0)\n",
    "df['Name Label'] = df.apply(define_name_label,axis = 1)\n",
    "print(\"修正後のdf↓\")\n",
    "display(df.head())"
   ]
  },
  {
   "cell_type": "markdown",
   "metadata": {},
   "source": [
    "### df['Stage']において、'初級'のなかでも3コマ目のレッスンは'初めて英語'、それ以外は'初級'として区別"
   ]
  },
  {
   "cell_type": "markdown",
   "metadata": {},
   "source": [
    "### 初めて英語→０、初級→１、中級→２、中上級→３　に変更する"
   ]
  },
  {
   "cell_type": "code",
   "execution_count": 7,
   "metadata": {},
   "outputs": [
    {
     "name": "stdout",
     "output_type": "stream",
     "text": [
      "修正後のdf↓\n"
     ]
    },
    {
     "data": {
      "text/html": [
       "<div>\n",
       "<style scoped>\n",
       "    .dataframe tbody tr th:only-of-type {\n",
       "        vertical-align: middle;\n",
       "    }\n",
       "\n",
       "    .dataframe tbody tr th {\n",
       "        vertical-align: top;\n",
       "    }\n",
       "\n",
       "    .dataframe thead th {\n",
       "        text-align: right;\n",
       "    }\n",
       "</style>\n",
       "<table border=\"1\" class=\"dataframe\">\n",
       "  <thead>\n",
       "    <tr style=\"text-align: right;\">\n",
       "      <th></th>\n",
       "      <th>Name Label</th>\n",
       "      <th>Name</th>\n",
       "      <th>Stage</th>\n",
       "      <th>Month</th>\n",
       "      <th>Day</th>\n",
       "      <th>Day of Week</th>\n",
       "      <th>Time Zone</th>\n",
       "    </tr>\n",
       "  </thead>\n",
       "  <tbody>\n",
       "    <tr>\n",
       "      <th>0</th>\n",
       "      <td>18</td>\n",
       "      <td>明石家さんま</td>\n",
       "      <td>1</td>\n",
       "      <td>10</td>\n",
       "      <td>17</td>\n",
       "      <td>5</td>\n",
       "      <td>1</td>\n",
       "    </tr>\n",
       "    <tr>\n",
       "      <th>1</th>\n",
       "      <td>6</td>\n",
       "      <td>ローラ</td>\n",
       "      <td>1</td>\n",
       "      <td>10</td>\n",
       "      <td>17</td>\n",
       "      <td>5</td>\n",
       "      <td>1</td>\n",
       "    </tr>\n",
       "    <tr>\n",
       "      <th>2</th>\n",
       "      <td>2</td>\n",
       "      <td>イモトアヤコ</td>\n",
       "      <td>3</td>\n",
       "      <td>10</td>\n",
       "      <td>17</td>\n",
       "      <td>5</td>\n",
       "      <td>5</td>\n",
       "    </tr>\n",
       "    <tr>\n",
       "      <th>3</th>\n",
       "      <td>16</td>\n",
       "      <td>岡田准一</td>\n",
       "      <td>2</td>\n",
       "      <td>10</td>\n",
       "      <td>17</td>\n",
       "      <td>5</td>\n",
       "      <td>7</td>\n",
       "    </tr>\n",
       "    <tr>\n",
       "      <th>4</th>\n",
       "      <td>9</td>\n",
       "      <td>北川景子</td>\n",
       "      <td>1</td>\n",
       "      <td>10</td>\n",
       "      <td>18</td>\n",
       "      <td>6</td>\n",
       "      <td>0</td>\n",
       "    </tr>\n",
       "  </tbody>\n",
       "</table>\n",
       "</div>"
      ],
      "text/plain": [
       "   Name Label    Name  Stage  Month  Day  Day of Week  Time Zone\n",
       "0          18  明石家さんま      1     10   17            5          1\n",
       "1           6     ローラ      1     10   17            5          1\n",
       "2           2  イモトアヤコ      3     10   17            5          5\n",
       "3          16    岡田准一      2     10   17            5          7\n",
       "4           9    北川景子      1     10   18            6          0"
      ]
     },
     "metadata": {},
     "output_type": "display_data"
    }
   ],
   "source": [
    "def define_stage(x):\n",
    "    if (x['Stage'] == '初級'):\n",
    "        if (x['Time Zone'] == 2):return 0\n",
    "        else: return 1\n",
    "    elif (x['Stage'] == '中級'): return 2\n",
    "    elif (x['Stage'] == '中上級'):return 3\n",
    "    else : return 100\n",
    "\n",
    "df['Stage'] = df.apply(define_stage,axis=1)\n",
    "#その他レッスンを削除\n",
    "df = df[df['Stage']!=100]\n",
    "df = df.reset_index(drop=True)\n",
    "\n",
    "# csvファイルで保存 index=Falseでindexをカラムとして保存しない\n",
    "df.to_csv('Data_Set.csv')\n",
    "\n",
    "print(\"修正後のdf↓\")\n",
    "display(df.head())"
   ]
  },
  {
   "cell_type": "markdown",
   "metadata": {},
   "source": [
    "# **データ分析**"
   ]
  },
  {
   "cell_type": "markdown",
   "metadata": {},
   "source": [
    "### 一人の生徒ごとに、以下の要素をもつ辞書　Students_P　を作成する"
   ]
  },
  {
   "cell_type": "markdown",
   "metadata": {},
   "source": [
    "- Come Up_P : 1日の間にその人が来る確率 (0.0~1.0)\n",
    "- Day of Week_P : 1週間に1回その人が来ると仮定した時、曜日ごとのその人が来る確率　(0.0~1.0)\n",
    "- Time Zone_P'　:　1日に1回その人が来ると仮定した時、コマごとにその人が来る確率　(0.0~1.0)\n",
    "- Stage_P : レッスンの種類ごとの、その人が来る確率　(0.0~1.0)"
   ]
  },
  {
   "cell_type": "code",
   "execution_count": 8,
   "metadata": {},
   "outputs": [],
   "source": [
    "Students_P = [0]*len(df['Name Label'].unique())\n",
    "\n",
    "for i in range(len(df['Name Label'].unique())):\n",
    "    Students_P[i] = {\n",
    "    'Come Up_P':[0.0],\n",
    "    'Day of Week_P':[0.0]*7,\n",
    "    'Time Zone_P':[0.0]*9,\n",
    "    'Stage_P':[0.0]*4,\n",
    "}\n",
    "\n",
    "#10~12月の総営業日数\n",
    "tmp_total_day = len(df[df['Month']==10]['Day'].unique())+len(df[df['Month']==11]['Day'].unique())+len(df[df['Month']==12]['Day'].unique())\n",
    "\n",
    "#一ヵ月あたりのStage 0,1,2,3ごとのレッスン数の絶対数が等しいと仮定した時の補正用にtmp_stage　という配列を作成。\n",
    "tmp_stage = [7,18,10,3]\n",
    "tmp_stage = np.average(tmp_stage) / tmp_stage\n",
    "\n",
    "#レッスンのコマごとに、レッスンの絶対数が等しいと仮定した時の補正用にtmp_time_zoneという配列を作成。\n",
    "tmp_time_zone = [7,7,7,7,6,6,5,5,5]\n",
    "\n",
    "for name in range(len(df['Name Label'].unique())):\n",
    "    for index, row in df.iterrows():\n",
    "        if row['Name Label'] == name:\n",
    "            Students_P[name]['Come Up_P'][0] += 1\n",
    "            if row['Day of Week'] == 0: Students_P[name]['Day of Week_P'][0] += 1\n",
    "            elif row['Day of Week'] == 1: Students_P[name]['Day of Week_P'][1] += 1\n",
    "            elif row['Day of Week'] == 2: Students_P[name]['Day of Week_P'][2] += 1\n",
    "            elif row['Day of Week'] == 3: Students_P[name]['Day of Week_P'][3] += 1\n",
    "            elif row['Day of Week'] == 4: Students_P[name]['Day of Week_P'][4] += 1\n",
    "            elif row['Day of Week'] == 5: Students_P[name]['Day of Week_P'][5] += 1\n",
    "            elif row['Day of Week'] == 6: Students_P[name]['Day of Week_P'][6] += 1\n",
    "            else :print('error')\n",
    "\n",
    "            if row['Time Zone'] == 0: Students_P[name]['Time Zone_P'][0] += 1\n",
    "            elif row['Time Zone'] == 1: Students_P[name]['Time Zone_P'][1] += 1\n",
    "            elif row['Time Zone'] == 2: Students_P[name]['Time Zone_P'][2] += 1\n",
    "            elif row['Time Zone'] == 3: Students_P[name]['Time Zone_P'][3] += 1\n",
    "            elif row['Time Zone'] == 4: Students_P[name]['Time Zone_P'][4] += 1\n",
    "            elif row['Time Zone'] == 5: Students_P[name]['Time Zone_P'][5] += 1\n",
    "            elif row['Time Zone'] == 6: Students_P[name]['Time Zone_P'][6] += 1\n",
    "            elif row['Time Zone'] == 7: Students_P[name]['Time Zone_P'][7] += 1\n",
    "            elif row['Time Zone'] == 8: Students_P[name]['Time Zone_P'][8] += 1\n",
    "            else :print('error')\n",
    "\n",
    "            if row['Stage'] == 0: Students_P[name]['Stage_P'][0] += 1\n",
    "            elif row['Stage'] == 1: Students_P[name]['Stage_P'][1] += 1\n",
    "            elif row['Stage'] == 2: Students_P[name]['Stage_P'][2] += 1\n",
    "            elif row['Stage'] == 3: Students_P[name]['Stage_P'][3] += 1\n",
    "            else :print('error')\n",
    "                \n",
    "    #Come Up_P を設定\n",
    "    Students_P[name]['Come Up_P'][0] /= tmp_total_day\n",
    "    \n",
    "    #Day of Week_P を設定\n",
    "    if sum(Students_P[name]['Day of Week_P']) > 0:\n",
    "        Students_P[name]['Day of Week_P'] = [n/sum(Students_P[name]['Day of Week_P']) for n in Students_P[name]['Day of Week_P']]\n",
    "    \n",
    "    #Time Zone_P を設定　　（授業数が同じと仮定した時の確率を算出する。火曜、土曜、日曜は授業数が６，７，６回、それ以外は9回）\n",
    "    for time_zone in range(9):\n",
    "        Students_P[name]['Time Zone_P'][time_zone] /= tmp_time_zone[time_zone]\n",
    "            \n",
    "    if sum(Students_P[name]['Time Zone_P']) > 0:\n",
    "        Students_P[name]['Time Zone_P'] = [n/sum(Students_P[name]['Time Zone_P']) for n in Students_P[name]['Time Zone_P']]\n",
    "\n",
    "    #Time Zone_P を設定　　（一ヵ月あたり、初めて、初級、中級、中上級のレッスン数は7,18,10,3。絶対数が等しいと仮定して算出する。）\n",
    "    for stage in range(4):\n",
    "        Students_P[name]['Stage_P'][stage] *= tmp_stage[stage]\n",
    "\n",
    "    if sum(Students_P[name]['Stage_P']) > 0:\n",
    "        Students_P[name]['Stage_P'] = [n/sum(Students_P[name]['Stage_P']) for n in Students_P[name]['Stage_P']]\n",
    "        \n",
    "del tmp_time_zone\n",
    "del tmp_stage"
   ]
  },
  {
   "cell_type": "markdown",
   "metadata": {},
   "source": [
    "### 試しにdf['Name Label]=0 の生徒の辞書を表示する"
   ]
  },
  {
   "cell_type": "code",
   "execution_count": 9,
   "metadata": {},
   "outputs": [
    {
     "name": "stdout",
     "output_type": "stream",
     "text": [
      "ある生徒A(Name Label = 0)について\n",
      "\n",
      "生徒Aが1日に1回でも来る確率：29.7% \n",
      "\n",
      "\n",
      "曜日ごとのくる確率: \n",
      "\n",
      "   Monday    ：5.3%\n",
      "   TuesDay   ：21.1%\n",
      "   Wednesday ：21.1%\n",
      "   Thursday  ：26.3%\n",
      "   Friday    ：10.5%\n",
      "   Saturday  ：10.5%\n",
      "   Sunday    ：5.3%\n"
     ]
    },
    {
     "data": {
      "image/png": "[encoded data removed]",
      "text/plain": [
       "<Figure size 432x288 with 1 Axes>"
      ]
     },
     "metadata": {
      "needs_background": "light"
     },
     "output_type": "display_data"
    },
    {
     "name": "stdout",
     "output_type": "stream",
     "text": [
      "\n",
      "\n",
      "コマごとのくる確率: \n",
      "\n",
      "   1コマ目：17.0%\n",
      "   2コマ目：4.2%\n",
      "   3コマ目：8.5%\n",
      "   4コマ目：0.0%\n",
      "   5コマ目：0.0%\n",
      "   6コマ目：5.0%\n",
      "   7コマ目：17.8%\n",
      "   8コマ目：29.7%\n",
      "   9コマ目：17.8%\n"
     ]
    },
    {
     "data": {
      "image/png": "[encoded data removed]",
      "text/plain": [
       "<Figure size 432x288 with 1 Axes>"
      ]
     },
     "metadata": {
      "needs_background": "light"
     },
     "output_type": "display_data"
    },
    {
     "name": "stdout",
     "output_type": "stream",
     "text": [
      "\n",
      "\n",
      "ステージごとのくる確率: \n",
      "\n",
      "   Beginner    ：10.1%\n",
      "   Elementary  ：47.3%\n",
      "   Intermediate：42.6%\n",
      "   Advanced    ：0.0%\n"
     ]
    },
    {
     "data": {
      "image/png": "[encoded data removed]",
      "text/plain": [
       "<Figure size 432x288 with 1 Axes>"
      ]
     },
     "metadata": {
      "needs_background": "light"
     },
     "output_type": "display_data"
    }
   ],
   "source": [
    "tmp_person = 0\n",
    "print('ある生徒A(Name Label = 0)について\\n')\n",
    "print('生徒Aが1日に1回でも来る確率：{:.1f}% \\n'.format(Students_P[tmp_person]['Come Up_P'][0]*100.0))\n",
    "print('\\n曜日ごとのくる確率: \\n')\n",
    "tmp_i = ['Monday','TuesDay','Wednesday','Thursday','Friday','Saturday','Sunday']\n",
    "for i in range(7):\n",
    "    print('   {:10}：{:.1f}%'.format(tmp_i[i],Students_P[tmp_person]['Day of Week_P'][i]*100.0))\n",
    "\n",
    "\n",
    "plt.bar(x=tmp_i,height=Students_P[tmp_person]['Day of Week_P'])\n",
    "plt.title('A person of Day of Week_P')\n",
    "plt.xticks(rotation=45)\n",
    "plt.show()\n",
    "\n",
    "    \n",
    "print('\\n\\nコマごとのくる確率: \\n')\n",
    "tmp_i = [1,2,3,4,5,6,7,8,9]\n",
    "for i in range(9):\n",
    "    print('   {}コマ目：{:.1f}%'.format(tmp_i[i],Students_P[tmp_person]['Time Zone_P'][i]*100.0))\n",
    "\n",
    "plt.bar(x=tmp_i,height=Students_P[tmp_person]['Time Zone_P'])\n",
    "plt.title('A person of Time Zone_P')\n",
    "plt.show()\n",
    "    \n",
    "print('\\n\\nステージごとのくる確率: \\n')\n",
    "tmp_i = ['Beginner','Elementary','Intermediate','Advanced']\n",
    "for i in range(4):\n",
    "    print('   {:12}：{:.1f}%'.format(tmp_i[i],Students_P[tmp_person]['Stage_P'][i]*100.0))\n",
    "    \n",
    "plt.bar(x=tmp_i,height=Students_P[tmp_person]['Stage_P'])\n",
    "plt.title('A person of Stage_P')\n",
    "plt.xticks(rotation=45)\n",
    "plt.show()\n",
    "    \n",
    "del tmp_i"
   ]
  },
  {
   "cell_type": "markdown",
   "metadata": {},
   "source": [
    "### 時間割のコマ、Stageごとの期待値を表す多次元配列 Cell_P をつくる"
   ]
  },
  {
   "cell_type": "code",
   "execution_count": 10,
   "metadata": {},
   "outputs": [
    {
     "name": "stdout",
     "output_type": "stream",
     "text": [
      "各コマごとの、より多くの生徒が来る期待値をヒートマップで表す。\n",
      "\n",
      "期待値が高いほど赤、低いほど青で表す。\n",
      "\n"
     ]
    },
    {
     "data": {
      "image/png": "[encoded data removed]",
      "text/plain": [
       "<Figure size 1296x360 with 7 Axes>"
      ]
     },
     "metadata": {
      "needs_background": "light"
     },
     "output_type": "display_data"
    }
   ],
   "source": [
    "#[曜日][コマ][Stage]の(7,9,4)の辞書を作成する フラグ\n",
    "Cell_P = np.zeros(7*9*4).reshape(7,9,4)\n",
    "\n",
    "#月~日の9コマ分すべてのレッスンごと（初めて、初級、中級、中上級）の期待値を出してみる\n",
    "for day in range(7):\n",
    "    for zone in range(9):\n",
    "        for stage in range(4):\n",
    "            for name in range(31):\n",
    "                Cell_P[day][zone][stage] += Students_P[name]['Come Up_P'][0]*Students_P[name]['Day of Week_P'][day]*Students_P[name]['Time Zone_P'][zone]*Students_P[name]['Stage_P'][stage]\n",
    "\n",
    "#火曜5,6,7はジアン先生のレッスンが固定で入っている→確率はゼロに設定\n",
    "Cell_P[1,4:7,:]=0.0\n",
    "#土曜は8,9コマ目がない→確率はゼロに設定\n",
    "Cell_P[5,7:9,:]=0.0\n",
    "#日曜は7,8,9コマ目がない→確率はゼロに設定\n",
    "Cell_P[6,6:9,:]=0.0\n",
    "\n",
    "print('各コマごとの、より多くの生徒が来る期待値をヒートマップで表す。\\n')\n",
    "print('期待値が高いほど赤、低いほど青で表す。\\n')\n",
    "                \n",
    "#各曜日、各コマ、各レッスンごとの生徒が来る確率をヒートマップで表す\n",
    "fig, (ax1, ax2, ax3, ax4, ax5, ax6, ax7) = plt.subplots(nrows=1, ncols=7,sharey=True,figsize=(18,5))\n",
    "sns.heatmap(Cell_P[0,:,:],ax=ax1,linewidths=1, cmap='coolwarm', cbar=False, xticklabels=['B','E','I','A'],yticklabels=['10:00-11:00','11:00-12:00','13:30-14:30','14:30-15:30','15:30-16:30','16:30-17:30','17:30-18:30','18:30-19:30','19:30-20:30'])\n",
    "ax1.set_title('Monday',fontsize = 15)\n",
    "sns.heatmap(Cell_P[1,:,:],ax=ax2,linewidths=1, cmap='coolwarm', cbar=False, xticklabels=['B','E','I','A'],yticklabels=['10:00-11:00','11:00-12:00','13:30-14:30','14:30-15:30','15:30-16:30','16:30-17:30','17:30-18:30','18:30-19:30','19:30-20:30'])\n",
    "ax2.set_title('Tuesday',fontsize = 15)\n",
    "sns.heatmap(Cell_P[2,:,:],ax=ax3,linewidths=1, cmap='coolwarm', cbar=False, xticklabels=['B','E','I','A'],yticklabels=['10:00-11:00','11:00-12:00','13:30-14:30','14:30-15:30','15:30-16:30','16:30-17:30','17:30-18:30','18:30-19:30','19:30-20:30'])\n",
    "ax3.set_title('Wednesday',fontsize = 15)\n",
    "sns.heatmap(Cell_P[3,:,:],ax=ax4,linewidths=1, cmap='coolwarm', cbar=False, xticklabels=['B','E','I','A'],yticklabels=['10:00-11:00','11:00-12:00','13:30-14:30','14:30-15:30','15:30-16:30','16:30-17:30','17:30-18:30','18:30-19:30','19:30-20:30'])\n",
    "ax4.set_title('Thursday',fontsize = 15)\n",
    "sns.heatmap(Cell_P[4,:,:],ax=ax5,linewidths=1, cmap='coolwarm', cbar=False, xticklabels=['B','E','I','A'],yticklabels=['10:00-11:00','11:00-12:00','13:30-14:30','14:30-15:30','15:30-16:30','16:30-17:30','17:30-18:30','18:30-19:30','19:30-20:30'])\n",
    "ax5.set_title('Friday',fontsize = 15)\n",
    "sns.heatmap(Cell_P[5,:,:],ax=ax6,linewidths=1, cmap='coolwarm', cbar=False, xticklabels=['B','E','I','A'],yticklabels=['10:00-11:00','11:00-12:00','13:30-14:30','14:30-15:30','15:30-16:30','16:30-17:30','17:30-18:30','18:30-19:30','19:30-20:30'])\n",
    "ax6.set_title('Saturday',fontsize = 15)\n",
    "sns.heatmap(Cell_P[6,:,:],ax=ax7,linewidths=1, cmap='coolwarm', cbar=False, xticklabels=['B','E','I','A'],yticklabels=['10:00-11:00','11:00-12:00','13:30-14:30','14:30-15:30','15:30-16:30','16:30-17:30','17:30-18:30','18:30-19:30','19:30-20:30'])\n",
    "ax7.set_title('Sunday',fontsize = 15)\n",
    "fig.tight_layout()\n",
    "sns.set_context('poster')\n",
    "\n",
    "plt.savefig('Distribution_All.png')"
   ]
  },
  {
   "cell_type": "markdown",
   "metadata": {},
   "source": [
    "### レッスンのステージごとの生徒構成比を算出する"
   ]
  },
  {
   "cell_type": "code",
   "execution_count": 11,
   "metadata": {},
   "outputs": [
    {
     "name": "stdout",
     "output_type": "stream",
     "text": [
      "現在のステージ別構成比　Composition_of_Stage　を算出する\n",
      "\n"
     ]
    },
    {
     "data": {
      "image/png": "[encoded data removed]",
      "text/plain": [
       "<Figure size 432x288 with 1 Axes>"
      ]
     },
     "metadata": {},
     "output_type": "display_data"
    },
    {
     "name": "stdout",
     "output_type": "stream",
     "text": [
      "来月の目標とするステージ別構成比　Next_Composition_of_Stage　を算出する\n",
      "\n"
     ]
    },
    {
     "data": {
      "image/png": "[encoded data removed]",
      "text/plain": [
       "<Figure size 432x288 with 1 Axes>"
      ]
     },
     "metadata": {},
     "output_type": "display_data"
    },
    {
     "name": "stdout",
     "output_type": "stream",
     "text": [
      "\n",
      "\n",
      "\n",
      "生徒のステージ別構成比をもとに、1週間の各レッスン数を算出する\n",
      "\n",
      "Beginner    :5回\n",
      "Elementary  :18回\n",
      "Intermediate:14回\n",
      "Advanced    :2回\n"
     ]
    }
   ],
   "source": [
    "print('現在のステージ別構成比　Composition_of_Stage　を算出する\\n')\n",
    "Composition_of_Stage= np.array([0.0,0.0,0.0,0.0])\n",
    "for name in range(len(df['Name Label'].unique())):\n",
    "    Composition_of_Stage += np.array(Students_P[name]['Stage_P'])\n",
    "Composition_of_Stage = [n/sum(Composition_of_Stage) for n in Composition_of_Stage]\n",
    "\n",
    "plt.title(\"Current Composition of Stage\")\n",
    "plt.rcParams['font.size'] = 30.0 \n",
    "plt.pie(Composition_of_Stage, labels=['Beginner','Elementary','Intermediate','Advanced'],autopct='%1.1f%%',textprops={'fontsize': 15})\n",
    "plt.savefig(\"Composition of Stage.png\")\n",
    "plt.show()\n",
    "\n",
    "\n",
    "print('来月の目標とするステージ別構成比　Next_Composition_of_Stage　を算出する\\n')\n",
    "stretch = np.array([0.8,0.9,1.1,1.2])\n",
    "Next_Composition_of_Stage = stretch * Composition_of_Stage\n",
    "Next_Composition_of_Stage = [n/sum(Next_Composition_of_Stage) for n in Next_Composition_of_Stage]\n",
    "plt.title(\"Next Current Composition of Stage\")\n",
    "plt.rcParams['font.size'] = 30.0 \n",
    "plt.pie(Next_Composition_of_Stage, labels=['Beginner','Elementary','Intermediate','Advanced'],autopct='%1.1f%%',textprops={'fontsize': 15})\n",
    "plt.savefig(\"Next_Composition_of_Stage.png\")\n",
    "plt.show()\n",
    "\n",
    "\n",
    "Num_of_Lesson = [round(n*39) for n in Next_Composition_of_Stage]\n",
    "\n",
    "print('\\n\\n\\n生徒のステージ別構成比をもとに、1週間の各レッスン数を算出する\\n')\n",
    "tmp_i = ['Beginner','Elementary','Intermediate','Advanced']\n",
    "for i in range(4):\n",
    "    print('{:12}:{:.0f}回'.format(tmp_i[i],Num_of_Lesson[i]))"
   ]
  },
  {
   "cell_type": "markdown",
   "metadata": {},
   "source": [
    "# 組み合わせ最適化問題を貪欲法（greedy）で近似解を求める"
   ]
  },
  {
   "cell_type": "code",
   "execution_count": 12,
   "metadata": {},
   "outputs": [
    {
     "data": {
      "image/png": "[encoded data removed]",
      "text/plain": [
       "<Figure size 1296x360 with 7 Axes>"
      ]
     },
     "metadata": {
      "needs_background": "light"
     },
     "output_type": "display_data"
    }
   ],
   "source": [
    "\n",
    "Cell_P[:,:,0] /= Num_of_Lesson[0]\n",
    "Cell_P[:,:,1] /= Num_of_Lesson[1]\n",
    "Cell_P[:,:,2] /= Num_of_Lesson[2]\n",
    "Cell_P[:,:,3] /= Num_of_Lesson[3]\n",
    "\n",
    "\n",
    "#各曜日、各コマ、各レッスンごとのコスパをヒートマップで表す\n",
    "fig, (ax1, ax2, ax3, ax4, ax5, ax6, ax7) = plt.subplots(nrows=1, ncols=7,sharey=True,figsize=(18,5))\n",
    "sns.heatmap(Cell_P[0,:,:],ax=ax1,linewidths=1, cmap='coolwarm', cbar=False, xticklabels=['B','E','I','A'],yticklabels=['10:00-11:00','11:00-12:00','13:30-14:30','14:30-15:30','15:30-16:30','16:30-17:30','17:30-18:30','18:30-19:30','19:30-20:30'])\n",
    "ax1.set_title('Monday',fontsize = 15)\n",
    "sns.heatmap(Cell_P[1,:,:],ax=ax2,linewidths=1, cmap='coolwarm', cbar=False, xticklabels=['B','E','I','A'],yticklabels=['10:00-11:00','11:00-12:00','13:30-14:30','14:30-15:30','15:30-16:30','16:30-17:30','17:30-18:30','18:30-19:30','19:30-20:30'])\n",
    "ax2.set_title('Tuesday',fontsize = 15)\n",
    "sns.heatmap(Cell_P[2,:,:],ax=ax3,linewidths=1, cmap='coolwarm', cbar=False, xticklabels=['B','E','I','A'],yticklabels=['10:00-11:00','11:00-12:00','13:30-14:30','14:30-15:30','15:30-16:30','16:30-17:30','17:30-18:30','18:30-19:30','19:30-20:30'])\n",
    "ax3.set_title('Wednesday',fontsize = 15)\n",
    "sns.heatmap(Cell_P[3,:,:],ax=ax4,linewidths=1, cmap='coolwarm', cbar=False, xticklabels=['B','E','I','A'],yticklabels=['10:00-11:00','11:00-12:00','13:30-14:30','14:30-15:30','15:30-16:30','16:30-17:30','17:30-18:30','18:30-19:30','19:30-20:30'])\n",
    "ax4.set_title('Thursday',fontsize = 15)\n",
    "sns.heatmap(Cell_P[4,:,:],ax=ax5,linewidths=1, cmap='coolwarm', cbar=False, xticklabels=['B','E','I','A'],yticklabels=['10:00-11:00','11:00-12:00','13:30-14:30','14:30-15:30','15:30-16:30','16:30-17:30','17:30-18:30','18:30-19:30','19:30-20:30'])\n",
    "ax5.set_title('Friday',fontsize = 15)\n",
    "sns.heatmap(Cell_P[5,:,:],ax=ax6,linewidths=1, cmap='coolwarm', cbar=False, xticklabels=['B','E','I','A'],yticklabels=['10:00-11:00','11:00-12:00','13:30-14:30','14:30-15:30','15:30-16:30','16:30-17:30','17:30-18:30','18:30-19:30','19:30-20:30'])\n",
    "ax6.set_title('Saturday',fontsize = 15)\n",
    "sns.heatmap(Cell_P[6,:,:],ax=ax7,linewidths=1, cmap='coolwarm', cbar=False, xticklabels=['B','E','I','A'],yticklabels=['10:00-11:00','11:00-12:00','13:30-14:30','14:30-15:30','15:30-16:30','16:30-17:30','17:30-18:30','18:30-19:30','19:30-20:30'])\n",
    "ax7.set_title('Sunday',fontsize = 15)\n",
    "fig.tight_layout()\n",
    "sns.set_context('poster')\n",
    "\n",
    "plt.savefig('Distribution of Cost_Performance.png')"
   ]
  },
  {
   "cell_type": "markdown",
   "metadata": {},
   "source": [
    "### 期待値が高いセルごとにソートする辞書のリスト CosPa　を作成"
   ]
  },
  {
   "cell_type": "code",
   "execution_count": 13,
   "metadata": {},
   "outputs": [
    {
     "name": "stdout",
     "output_type": "stream",
     "text": [
      "貪欲法で解くために、期待値でソートされた以下のようなリストを作成する\n",
      "\n",
      "{'Value': 0.014871377038563949, 'Day': 4, 'Zone': 8, 'Stage': 3}\n",
      "{'Value': 0.01379192947817256, 'Day': 3, 'Zone': 8, 'Stage': 3}\n",
      "{'Value': 0.013578757678027636, 'Day': 3, 'Zone': 6, 'Stage': 0}\n",
      "{'Value': 0.013087700188240643, 'Day': 0, 'Zone': 6, 'Stage': 0}\n",
      "{'Value': 0.012358455579244932, 'Day': 0, 'Zone': 8, 'Stage': 3}\n",
      "{'Value': 0.012283149381058272, 'Day': 2, 'Zone': 1, 'Stage': 0}\n",
      "{'Value': 0.011615397254139435, 'Day': 0, 'Zone': 1, 'Stage': 0}\n",
      "{'Value': 0.011559800841726964, 'Day': 5, 'Zone': 6, 'Stage': 2}\n",
      "{'Value': 0.011555695183375717, 'Day': 3, 'Zone': 6, 'Stage': 2}\n",
      "{'Value': 0.011416773837674896, 'Day': 3, 'Zone': 8, 'Stage': 2}\n"
     ]
    }
   ],
   "source": [
    "CosPa = [0]*7*9*4\n",
    "for i in range(7*9*4):\n",
    "    CosPa[i] = {\n",
    "    'Value':0.0,\n",
    "    'Day':0,\n",
    "    'Zone':0,\n",
    "    'Stage':0\n",
    "}\n",
    "\n",
    "cnt=0\n",
    "for day in range(7):\n",
    "    for zone in range(9):\n",
    "        for stage in range(4):\n",
    "            CosPa[cnt]['Value'] =Cell_P[day,zone,stage]\n",
    "            CosPa[cnt]['Day'] = day\n",
    "            CosPa[cnt]['Zone'] = zone\n",
    "            CosPa[cnt]['Stage'] = stage\n",
    "            cnt = cnt + 1\n",
    "CosPa = sorted(CosPa, key=lambda x:x['Value'], reverse=True) \n",
    "\n",
    "print('貪欲法で解くために、期待値でソートされた以下のようなリストを作成する\\n')\n",
    "for i in range(10):\n",
    "    print(CosPa[i])\n",
    "\n",
    "#del Cell_P"
   ]
  },
  {
   "cell_type": "markdown",
   "metadata": {},
   "source": [
    "### 時間割と対応させた多次元配列 Timetable に対し、Stage0,1,2,3のレッスンを割り当てる"
   ]
  },
  {
   "cell_type": "code",
   "execution_count": 14,
   "metadata": {},
   "outputs": [],
   "source": [
    "def check(x):\n",
    "    #条件を満たしているかチェックする関数 満たしていなければ１を、満たしていれば０を返す\n",
    "    #Cospa[i]が引数\n",
    "    \n",
    "    #条件1：事前に決めた一週間のステージごとの総数を越えない\n",
    "    val = 0\n",
    "    if x['Stage']==0 and stage_cnt[0] >= Num_of_Lesson[0]: return 1\n",
    "    elif x['Stage']==1 and stage_cnt[1] >= Num_of_Lesson[1]: return 1\n",
    "    elif x['Stage']==2 and stage_cnt[2] >= Num_of_Lesson[2]: return 1\n",
    "    elif x['Stage']==3 and stage_cnt[3] >= Num_of_Lesson[3]: return 1\n",
    "    else: val = 0\n",
    "\n",
    "    #条件２：前後で同じステージのレッスンが連続しない\n",
    "    if x['Zone'] >= 1:\n",
    "        if Timetable[x['Day'],x['Zone']-1, 1] == 1:\n",
    "            if Timetable[x['Day'],x['Zone']-1, 0] == x['Stage']:\n",
    "                return 1\n",
    "    elif x['Zone'] <= 7:\n",
    "        if Timetable[x['Day'],x['Zone']+1, 1] == 1:\n",
    "            if Timetable[x['Day'],x['Zone']+1, 0] == x['Stage']:\n",
    "                return 1\n",
    "    else:\n",
    "        val = 0\n",
    "    \n",
    "    #条件３：その他レッスン、FREEレッスンが最低でも一日に一つずつ含まれる\n",
    "    if get_empty(x['Day']) > 3:\n",
    "        val = 0\n",
    "    elif get_empty(x['Day']) == 3:\n",
    "        cnt_empty = [0,0,0,0,0,0,0]\n",
    "        for i in range(7):\n",
    "            cnt_empty[i] = get_empty(i)\n",
    "        if sum(cnt_empty)==17:\n",
    "            #最後の1コマを当てはめようとしているとき\n",
    "            for i in range(7):\n",
    "                if cnt_empty[i]==4:\n",
    "                    #空きコマが４の曜日がまだ残っている場合\n",
    "                    return 1\n",
    "    else:\n",
    "        return 1\n",
    "    \n",
    "    return val\n",
    "\n",
    "def get_empty(day):\n",
    "    #曜日を表す引数dayをもとに、曜日ごとのTimetableで未決定セル数を返す\n",
    "    cnt = 0\n",
    "    for i in range(9):\n",
    "        if Timetable[day,i,1] == 0 :\n",
    "            cnt += 1\n",
    "    return cnt\n",
    "\n",
    "def stage_count(x):\n",
    "    if x==0: stage_cnt[0] += 1\n",
    "    elif x==1: stage_cnt[1] += 1\n",
    "    elif x==2: stage_cnt[2] += 1\n",
    "    elif x==3: stage_cnt[3] += 1\n",
    "\n",
    "        \n",
    "Timetable = np.array([0]*7*9*2) .reshape(7,9,2)\n",
    "#火曜5,6,7はジアン先生のレッスンが固定で入っているので、フラグをたてておく\n",
    "Timetable[1,4:7,1]=1\n",
    "#土曜は8,9コマ目がない\n",
    "Timetable[5,7:9,1]=1\n",
    "#日曜は7,8,9コマ目がない\n",
    "Timetable[6,6:9,1]=1\n",
    "\n",
    "#貪欲法を用いてStage0,1,2,3のレッスンを割り当てる\n",
    "cnt = 7*9\n",
    "stage_cnt = [0,0,0,0]\n",
    "for i in range(len(CosPa)):\n",
    "    if Timetable[CosPa[i]['Day']][CosPa[i]['Zone']][1] != 1:\n",
    "        if check(CosPa[i]) == 0 :\n",
    "            Timetable[CosPa[i]['Day']][CosPa[i]['Zone']][0] = CosPa[i]['Stage']\n",
    "            Timetable[CosPa[i]['Day']][CosPa[i]['Zone']][1] = 1\n",
    "            cnt = cnt-1\n",
    "            stage_count(CosPa[i]['Stage'])\n",
    "        if cnt == 0 :\n",
    "            break\n",
    "\n",
    "#火曜5,6,7はジアン先生のレッスンが固定で入っている\n",
    "Timetable[1,4:7,0]=-1\n",
    "#土曜は8,9コマ目がない\n",
    "Timetable[5,7:9,0]=-1\n",
    "#日曜は7,8,9コマ目がない\n",
    "Timetable[6,6:9,0]=-1"
   ]
  },
  {
   "cell_type": "markdown",
   "metadata": {},
   "source": [
    "### 一日の中で未決定セルのうち、期待値が最も高いセルにFREEレッスンを、それ以外にその他レッスンを割り当てる\n",
    "### ただし、FREEレッスンを割り当てる際、その他レッスンが連続しないことを優先する"
   ]
  },
  {
   "cell_type": "code",
   "execution_count": 15,
   "metadata": {},
   "outputs": [],
   "source": [
    "tmp0 = np.zeros(7*9).reshape(7,9)\n",
    "tmp0 = [[sum(Cell_P[day,zone,:]) if Timetable[day,zone,1]==0 else 0.0 for zone in range(9) ] for day in range(7)]\n",
    "\n",
    "#未決定セル（flag=0）のなかで最も期待値の高いセルをfree_zoneに代入する\n",
    "free_zone = np.zeros(7)\n",
    "for day in range(7):\n",
    "    tmp_max = 0\n",
    "    for zone in range(9):\n",
    "        if tmp_max < tmp0[day][zone]:\n",
    "            tmp_max = tmp0[day][zone]\n",
    "            free_zone[day] = zone\n",
    "            \n",
    "#未決定セルのなかで、期待値が最も高いセルにFREEレッスンを、それ以外にその他レッスンを割り当てる\n",
    "for day in range(7):\n",
    "    Timetable[day,int(free_zone[day]),0] = 4\n",
    "    Timetable[day,int(free_zone[day]),1] = 1\n",
    "    for zone in range(9):\n",
    "        if Timetable[day,zone,1]==0:\n",
    "            Timetable[day,zone,0] = 5\n",
    "            Timetable[day,zone,1] = 1\n"
   ]
  },
  {
   "cell_type": "markdown",
   "metadata": {},
   "source": [
    "# 算出した時間割をグラフ描画\n",
    "### グラフのラベルについて\n",
    "- None : このコマにはレッスンが入らない\n",
    "- B : Beginner の頭文字。初めて英語クラス\n",
    "- E : Elementary の頭文字。初級クラス\n",
    "- I : Intermediate の頭文字。中級クラス\n",
    "- A : Advanced の頭文字。中上級クラス"
   ]
  },
  {
   "cell_type": "code",
   "execution_count": 16,
   "metadata": {},
   "outputs": [
    {
     "data": {
      "image/png": "[encoded data removed]",
      "text/plain": [
       "<Figure size 1440x864 with 2 Axes>"
      ]
     },
     "metadata": {
      "needs_background": "light"
     },
     "output_type": "display_data"
    }
   ],
   "source": [
    "#ラベルの作成\n",
    "labels = np.asarray(['abcde']*7*9).reshape(7,9)\n",
    "for day in range(7):\n",
    "    for zone in range(9):\n",
    "        if Timetable[day,zone,0] == -1:\n",
    "            labels[day][zone] = 'None'\n",
    "        elif Timetable[day,zone,0] == 0:\n",
    "            labels[day][zone] = 'B'\n",
    "        elif Timetable[day,zone,0] == 1:\n",
    "            labels[day][zone] = 'E'\n",
    "        elif Timetable[day,zone,0] == 2:\n",
    "            labels[day][zone] = 'I'\n",
    "        elif Timetable[day,zone,0] == 3:\n",
    "            labels[day][zone] = 'A'\n",
    "        elif Timetable[day,zone,0] == 4:\n",
    "            labels[day][zone] = 'Free'\n",
    "        elif Timetable[day,zone,0] == 5:\n",
    "            labels[day][zone] = 'Other'\n",
    "labels = labels.T\n",
    "\n",
    "\n",
    "#グラフの作成\n",
    "fig, ax = plt.subplots(nrows=1, ncols=1,figsize=(20,12))\n",
    "data = Timetable[:,:,0].T\n",
    "ax.set_title('Proposed Time Schedule',fontsize = 30)\n",
    "sns.heatmap(data, annot=labels, fmt=\"\", cmap='Spectral', xticklabels=['Monday','Tuesday','Wednesday','Thursday','Friday','Saturday','Sunday'],yticklabels=['10:00-11:00','11:00-12:00','13:30-14:30','14:30-15:30','15:30-16:30','16:30-17:30','17:30-18:30','18:30-19:30','19:30-20:30'])\n",
    "\n",
    "colorbar = ax.collections[0].colorbar\n",
    "colorbar.set_ticks([5,4,3,2,1,0,-1])\n",
    "colorbar.set_ticklabels(['Other', 'Free', 'Advanced','Intermediate','Elementary','Beginner','None'])\n",
    "plt.savefig('Proposed Time Schedule.png')"
   ]
  },
  {
   "cell_type": "code",
   "execution_count": null,
   "metadata": {},
   "outputs": [
    {
     "name": "stderr",
     "output_type": "stream",
     "text": [
      "/opt/anaconda3/lib/python3.7/site-packages/ipykernel_launcher.py:60: RuntimeWarning: More than 20 figures have been opened. Figures created through the pyplot interface (`matplotlib.pyplot.figure`) are retained until explicitly closed and may consume too much memory. (To control this warning, see the rcParam `figure.max_open_warning`).\n"
     ]
    },
    {
     "data": {
      "image/png": "[encoded data removed]",
      "text/plain": [
       "<Figure size 720x576 with 4 Axes>"
      ]
     },
     "metadata": {
      "needs_background": "light"
     },
     "output_type": "display_data"
    },
    {
     "data": {
      "image/png": "[encoded data removed]",
      "text/plain": [
       "<Figure size 720x576 with 4 Axes>"
      ]
     },
     "metadata": {
      "needs_background": "light"
     },
     "output_type": "display_data"
    }
   ],
   "source": [
    "#生徒一人ごとの分析レポートをpdfで作成\n",
    "\n",
    "def return_name(x):\n",
    "        if x == 0: return  'いとうあさこ'\n",
    "        elif x == 1: return  'イチロー'        \n",
    "        elif x == 2: return  'イモトアヤコ'        \n",
    "        elif x == 3: return  'サンドウィッチマン' \n",
    "        elif x == 4: return  'タモリ'        \n",
    "        elif x == 5: return  'マツコ・デラックス'       \n",
    "        elif x == 6: return  'ローラ'      \n",
    "        elif x == 7: return  '上戸彩'     \n",
    "        elif x == 8: return  '出川哲郎'       \n",
    "        elif x == 9: return  '北川景子'      \n",
    "        elif x == 10: return  '博多華丸・大吉'\n",
    "        elif x == 11: return  '吉田羊'       \n",
    "        elif x == 12: return  '大泉洋'   \n",
    "        elif x == 13: return  '天海祐希' \n",
    "        elif x == 14: return  '宇多田ヒカル' \n",
    "        elif x == 15: return  '山田孝之' \n",
    "        elif x == 16: return  '岡田准一' \n",
    "        elif x == 17: return  '所ジョージ' \n",
    "        elif x == 18: return  '明石家さんま'\n",
    "        elif x == 19: return '浅田真央' \n",
    "        elif x == 20: return  '深田恭子' \n",
    "        elif x == 21: return  '渡辺直美' \n",
    "        elif x == 22: return  '相葉雅紀' \n",
    "        elif x == 23: return  '石原さとみ' \n",
    "        elif x == 24: return  '石田ゆり子' \n",
    "        elif x == 25: return  '福士蒼汰' \n",
    "        elif x == 26: return  '福山雅治' \n",
    "        elif x == 27: return  '米倉涼子' \n",
    "        elif x == 28: return  '綾瀬はるか' \n",
    "        elif x == 29: return  '阿部サダヲ' \n",
    "        elif x == 30: return  '阿部寛' \n",
    "        else: return 100\n",
    "\n",
    "#全生徒の平均出席数/1週間　を算出する\n",
    "mean_attend = 0\n",
    "for i in range(len(df['Name Label'].unique())):\n",
    "    mean_attend += Students_P[i]['Come Up_P'][0]*7\n",
    "mean_attend /= (len(df['Name Label'].unique()))\n",
    "\n",
    "#PDF編集に必要なライブラリ等をインポート\n",
    "from PyPDF2 import PdfFileWriter, PdfFileReader\n",
    "from reportlab.pdfgen import canvas\n",
    "from reportlab.lib.pagesizes import A4, portrait,landscape\n",
    "from reportlab.lib.units import inch, mm, cm\n",
    "from reportlab.pdfbase import pdfmetrics\n",
    "from reportlab.pdfbase.ttfonts import TTFont\n",
    "from reportlab.pdfgen import canvas\n",
    "from reportlab.pdfbase.pdfmetrics import registerFont\n",
    "from reportlab.pdfbase.cidfonts import UnicodeCIDFont\n",
    "from matplotlib.backends.backend_pdf import PdfPages\n",
    "import japanize_matplotlib\n",
    "\n",
    "\n",
    "pdf = PdfPages('Personal Analysis.pdf')\n",
    "\n",
    "for i in range(len(df['Name Label'].unique())):\n",
    "    fig = plt.figure(figsize=(10, 8))\n",
    "    \n",
    "    ax = fig.add_subplot(2, 2, 1)\n",
    "    x1 = ['月','火','水','木','金','土','日']\n",
    "    y1 = Students_P[i]['Day of Week_P']\n",
    "    ax.bar(x1, y1)\n",
    "    ax.set_xlabel(\"Day of Week\",fontsize = 12)\n",
    "    ax.set_ylabel(\"Ratio\",fontsize = 12)\n",
    "    ax.set_title('曜日別分布({}さん)'.format(return_name(i)),fontsize = 10)\n",
    "    plt.xticks(fontsize = 7)\n",
    "    plt.yticks(fontsize = 7)\n",
    "    \n",
    "    ax = fig.add_subplot(2, 2, 2)\n",
    "    x2 = ['10:00-11:00','11:00-12:00','13:30-14:30','14:30-15:30','15:30-16:30','16:30-17:30','17:30-18:30','18:30-19:30','19:30-20:30']\n",
    "    y2 = Students_P[i]['Time Zone_P']\n",
    "    ax.bar(x2, y2)\n",
    "    ax.set_xlabel(\"Time Zone\",fontsize = 12)\n",
    "    ax.set_ylabel(\"Ratio\",fontsize = 12)\n",
    "    ax.set_title('時間帯別分布({}さん)'.format(return_name(i)),fontsize = 10)\n",
    "    plt.xticks(rotation=90,fontsize = 7)\n",
    "    plt.yticks(fontsize = 7)\n",
    "\n",
    "    ax = fig.add_subplot(2, 2, 3)\n",
    "    x3 = ['Beginner','Elementary','Intermediate','Advanced']\n",
    "    y3 = Students_P[i]['Stage_P']\n",
    "    ax.bar(x3, y3)\n",
    "    ax.set_xlabel(\"Lesson\",fontsize = 12)\n",
    "    ax.set_ylabel(\"Ratio\",fontsize = 12)\n",
    "    ax.set_title('レッスン種別分布({}さん)'.format(return_name(i)),fontsize = 10)\n",
    "    plt.xticks(rotation=45,fontsize = 7)\n",
    "    plt.yticks(fontsize = 7)\n",
    "    \n",
    "    ax = fig.add_subplot(2, 2, 4)\n",
    "    ax.bar(x=0, width=-0.4, height=Students_P[i]['Come Up_P'][0]*7, align='edge',label='{}'.format(return_name(i)))\n",
    "    ax.bar(x=0, width=+0.4, height=mean_attend, align='edge',label='平均')\n",
    "    ax.set_ylabel(\"回数\",fontsize = 12)\n",
    "    ax.set_title('1週間に来る回数の期待値({}さん)'.format(return_name(i)),fontsize = 10)\n",
    "    plt.xticks(rotation=0,fontsize = 7)\n",
    "    plt.yticks(fontsize = 7)\n",
    "    plt.legend(bbox_to_anchor=(1, 0), loc='lower right', borderaxespad=1, fontsize=10)\n",
    "    \n",
    "    fig.tight_layout()\n",
    "    #forループのなかで保存\n",
    "    pdf.savefig(fig)\n",
    "# close処理\n",
    "pdf.close()"
   ]
  },
  {
   "cell_type": "code",
   "execution_count": 20,
   "metadata": {},
   "outputs": [],
   "source": []
  },
  {
   "cell_type": "code",
   "execution_count": 40,
   "metadata": {},
   "outputs": [
    {
     "ename": "ModuleNotFoundError",
     "evalue": "No module named 'pyPdf'",
     "output_type": "error",
     "traceback": [
      "\u001b[0;31m---------------------------------------------------------------------------\u001b[0m",
      "\u001b[0;31mModuleNotFoundError\u001b[0m                       Traceback (most recent call last)",
      "\u001b[0;32m<ipython-input-40-1a51250bd83e>\u001b[0m in \u001b[0;36m<module>\u001b[0;34m\u001b[0m\n\u001b[0;32m----> 1\u001b[0;31m \u001b[0;32mimport\u001b[0m \u001b[0mpyPdf\u001b[0m\u001b[0;34m\u001b[0m\u001b[0;34m\u001b[0m\u001b[0m\n\u001b[0m\u001b[1;32m      2\u001b[0m \u001b[0;34m\u001b[0m\u001b[0m\n",
      "\u001b[0;31mModuleNotFoundError\u001b[0m: No module named 'pyPdf'"
     ]
    }
   ],
   "source": [
    "\n",
    "    "
   ]
  },
  {
   "cell_type": "code",
   "execution_count": 69,
   "metadata": {},
   "outputs": [],
   "source": [
    "def mm_to_pts(mm) -> float:\n",
    "\n",
    "    return float(mm) / 0.352778\n",
    "\n",
    "# 既存PDFの読み取り\n",
    "file_path = \"dummy.pdf\"\n",
    "insert_text = 'rtgaowrtgawrgn'\n",
    "\n",
    "\n",
    "reader = fitz.open(file_path)\n",
    "# 新規PDFの作成\n",
    "writer = fitz.open()\n",
    "# 既存PDFの1ページ目を新規PDFに流し込む\n",
    "writer.insertPDF(reader, from_page=0, to_page=0)\n",
    "# 既存PDFの1ページを読み込む\n",
    "page = writer.loadPage(0)\n",
    "# 挿入位置(mmをptsに変えて指定)\n",
    "target_x, target_y = mm_to_pts(50), mm_to_pts(50)\n",
    "p = fitz.Point(target_x, target_y)  # start point of 1st line\n",
    "rc = page.insertText(p,  # bottom-left of 1st char\n",
    "                     insert_text,  # the text (honors '\\n')\n",
    "                     fontname=\"helv\",  # the default font\n",
    "                     fontsize=16,  # the default font size\n",
    "                     rotate=0,  # also available: 90, 180, 270\n",
    "                     color=0,\n",
    "                     )\n",
    "# 出力名\n",
    "output_name = \"PyMuPDF.pdf\"\n",
    "writer.save(output_name)"
   ]
  },
  {
   "cell_type": "code",
   "execution_count": 73,
   "metadata": {},
   "outputs": [],
   "source": [
    "from reportlab.pdfgen import canvas\n",
    "from reportlab.lib.pagesizes import A4, portrait\n",
    "from reportlab.pdfbase import pdfmetrics\n",
    "from reportlab.pdfbase.ttfonts import TTFont\n",
    "\n",
    "\n",
    "\n",
    "# A4縦のCanvasを作成 -- (*3)\n",
    "w, h = portrait(A4)\n",
    "cv = canvas.Canvas('dummy.pdf', pagesize=(w, h))\n",
    "\n",
    "\n",
    "# 文字列を描画する --- (*5)\n",
    "cv.drawString(20, h-100,  \"aaaaa\")\n",
    "cv.drawString(20, h-160, \"bbbbb\")\n",
    "cv.drawString(20, h-220, \"ccccc\")\n",
    "\n",
    "# ファイルに保存 --- (*6)\n",
    "cv.showPage()\n",
    "cv.save()"
   ]
  },
  {
   "cell_type": "code",
   "execution_count": 113,
   "metadata": {},
   "outputs": [],
   "source": [
    "from PyPDF2 import PdfFileWriter, PdfFileReader\n",
    "from reportlab.pdfgen import canvas\n",
    "from reportlab.lib.pagesizes import A4, portrait,landscape\n",
    "from reportlab.lib.units import inch, mm, cm\n",
    "from reportlab.pdfbase import pdfmetrics\n",
    "from reportlab.pdfbase.ttfonts import TTFont\n",
    "import  sys\n",
    "from reportlab.pdfgen import canvas\n",
    "from reportlab.pdfbase.pdfmetrics import registerFont\n",
    "from reportlab.pdfbase.cidfonts import UnicodeCIDFont\n",
    "from reportlab.pdfgen import canvas\n",
    "from reportlab.lib.pagesizes import A4, portrait\n",
    "from reportlab.pdfbase import pdfmetrics\n",
    "from reportlab.pdfbase.ttfonts import TTFont"
   ]
  },
  {
   "cell_type": "code",
   "execution_count": 113,
   "metadata": {},
   "outputs": [],
   "source": [
    "insert_str1 = \"'{}'さんが\".format(str(return_name(0)))\n",
    "insert_str2 = \"1週間に来る回数の期待値は'{}回'\".format(str(round(Students_P[0]['Come Up_P'][0]*7)))\n",
    "\n",
    "# ファイルの指定\n",
    "template_file = 'save.pdf' # 既存のテンプレートPDF\n",
    "output_file = 'output.pdf' # 完成したPDFの保存先\n",
    "tmp_file = 'tmp.pdf' # 一時ファイル\n",
    "\n",
    "# A4縦のCanvasを作成 -- (*1)\n",
    "#w, h = portrait(A4)\n",
    "cv = canvas.Canvas(tmp_file, pagesize=landscape(A4))\n",
    "\n",
    "# フォントを登録しCanvasに設定 --- (*2)\n",
    "font_size = 15\n",
    "ttf_file = 'ipaexg.ttf'\n",
    "pdfmetrics.registerFont(TTFont('IPAexGothic', ttf_file))\n",
    "cv.setFont('IPAexGothic', font_size)\n",
    "\n",
    "# 文字列を描画する --- (*3)\n",
    "cv.setFillColorRGB(0, 0, 0.4)\n",
    "cv.drawString(140*mm, 60*mm, insert_str1)\n",
    "cv.drawString(140*mm, 50*mm, insert_str2)\n",
    "\n",
    "# 一時ファイルに保存 --- (*4)\n",
    "cv.showPage()\n",
    "cv.save()\n",
    "\n",
    "# テンプレートとなるPDFを読む --- (*5)\n",
    "template_pdf = PdfFileReader(template_file)\n",
    "template_page = template_pdf.getPage(0)\n",
    "\n",
    "# 一時ファイルを読んで合成する --- (*6)\n",
    "tmp_pdf = PdfFileReader(tmp_file)\n",
    "template_page.mergePage(tmp_pdf.getPage(0))\n",
    "\n",
    "# 書き込み先PDFを用意 --- (*7)\n",
    "output = PdfFileWriter()\n",
    "output.addPage(template_page)\n",
    "with open(output_file, \"wb\") as fp:\n",
    "  output.write(fp)"
   ]
  },
  {
   "cell_type": "code",
   "execution_count": 120,
   "metadata": {},
   "outputs": [
    {
     "ename": "IndexError",
     "evalue": "list index out of range",
     "output_type": "error",
     "traceback": [
      "\u001b[0;31m---------------------------------------------------------------------------\u001b[0m",
      "\u001b[0;31mIndexError\u001b[0m                                Traceback (most recent call last)",
      "\u001b[0;32m<ipython-input-120-aca8c257a7f4>\u001b[0m in \u001b[0;36m<module>\u001b[0;34m\u001b[0m\n\u001b[1;32m     60\u001b[0m \u001b[0;31m# 一時ファイルを読んで合成する --- (*6)\u001b[0m\u001b[0;34m\u001b[0m\u001b[0;34m\u001b[0m\u001b[0;34m\u001b[0m\u001b[0m\n\u001b[1;32m     61\u001b[0m \u001b[0mtmp_pdf\u001b[0m \u001b[0;34m=\u001b[0m \u001b[0mPdfFileReader\u001b[0m\u001b[0;34m(\u001b[0m\u001b[0mtmp_file\u001b[0m\u001b[0;34m)\u001b[0m\u001b[0;34m\u001b[0m\u001b[0;34m\u001b[0m\u001b[0m\n\u001b[0;32m---> 62\u001b[0;31m \u001b[0mtemplate_page\u001b[0m\u001b[0;34m.\u001b[0m\u001b[0mmergePage\u001b[0m\u001b[0;34m(\u001b[0m\u001b[0mtmp_pdf\u001b[0m\u001b[0;34m.\u001b[0m\u001b[0mgetPage\u001b[0m\u001b[0;34m(\u001b[0m\u001b[0;36m1\u001b[0m\u001b[0;34m)\u001b[0m\u001b[0;34m)\u001b[0m\u001b[0;34m\u001b[0m\u001b[0;34m\u001b[0m\u001b[0m\n\u001b[0m\u001b[1;32m     63\u001b[0m \u001b[0;34m\u001b[0m\u001b[0m\n\u001b[1;32m     64\u001b[0m \u001b[0;31m# 書き込み先PDFを用意 --- (*7)\u001b[0m\u001b[0;34m\u001b[0m\u001b[0;34m\u001b[0m\u001b[0;34m\u001b[0m\u001b[0m\n",
      "\u001b[0;32m/opt/anaconda3/lib/python3.7/site-packages/PyPDF2/pdf.py\u001b[0m in \u001b[0;36mgetPage\u001b[0;34m(self, pageNumber)\u001b[0m\n\u001b[1;32m   1175\u001b[0m         \u001b[0;32mif\u001b[0m \u001b[0mself\u001b[0m\u001b[0;34m.\u001b[0m\u001b[0mflattenedPages\u001b[0m \u001b[0;34m==\u001b[0m \u001b[0;32mNone\u001b[0m\u001b[0;34m:\u001b[0m\u001b[0;34m\u001b[0m\u001b[0;34m\u001b[0m\u001b[0m\n\u001b[1;32m   1176\u001b[0m             \u001b[0mself\u001b[0m\u001b[0;34m.\u001b[0m\u001b[0m_flatten\u001b[0m\u001b[0;34m(\u001b[0m\u001b[0;34m)\u001b[0m\u001b[0;34m\u001b[0m\u001b[0;34m\u001b[0m\u001b[0m\n\u001b[0;32m-> 1177\u001b[0;31m         \u001b[0;32mreturn\u001b[0m \u001b[0mself\u001b[0m\u001b[0;34m.\u001b[0m\u001b[0mflattenedPages\u001b[0m\u001b[0;34m[\u001b[0m\u001b[0mpageNumber\u001b[0m\u001b[0;34m]\u001b[0m\u001b[0;34m\u001b[0m\u001b[0;34m\u001b[0m\u001b[0m\n\u001b[0m\u001b[1;32m   1178\u001b[0m \u001b[0;34m\u001b[0m\u001b[0m\n\u001b[1;32m   1179\u001b[0m     namedDestinations = property(lambda self:\n",
      "\u001b[0;31mIndexError\u001b[0m: list index out of range"
     ]
    }
   ],
   "source": [
    "insert_str1 = \"'{}'さんが\".format(str(return_name(0)))\n",
    "insert_str2 = \"1週間に来る回数の期待値は'{}回'\".format(str(round(Students_P[0]['Come Up_P'][0]*7)))\n",
    "\n",
    "# ファイルの指定\n",
    "template_file = 'save.pdf' # 既存のテンプレートPDF\n",
    "output_file = 'output.pdf' # 完成したPDFの保存先\n",
    "tmp_file = 'tmp.pdf' # 一時ファイル\n",
    "\n",
    "# A4縦のCanvasを作成 -- (*1)\n",
    "#w, h = portrait(A4)\n",
    "cv = canvas.Canvas(tmp_file, pagesize=landscape(A4))\n",
    "\n",
    "# フォントを登録しCanvasに設定 --- (*2)\n",
    "font_size = 15\n",
    "ttf_file = 'ipaexg.ttf'\n",
    "pdfmetrics.registerFont(TTFont('IPAexGothic', ttf_file))\n",
    "cv.setFont('IPAexGothic', font_size)\n",
    "\n",
    "# 文字列を描画する --- (*3)\n",
    "cv.setFillColorRGB(0, 0, 0.4)\n",
    "cv.drawString(140*mm, 60*mm, insert_str1)\n",
    "cv.drawString(140*mm, 50*mm, insert_str2)\n",
    "\n",
    "# 一時ファイルに保存 --- (*4)\n",
    "cv.showPage()\n",
    "cv.save()\n",
    "\n",
    "# テンプレートとなるPDFを読む --- (*5)\n",
    "template_pdf = PdfFileReader(template_file)\n",
    "template_page = template_pdf.getPage(1)\n",
    "\n",
    "# 一時ファイルを読んで合成する --- (*6)\n",
    "tmp_pdf = PdfFileReader(tmp_file)\n",
    "template_page.mergePage(tmp_pdf.getPage(0))\n",
    "\n",
    "\n",
    "# A4縦のCanvasを作成 -- (*1)\n",
    "#w, h = portrait(A4)\n",
    "cv = canvas.Canvas(tmp_file, pagesize=landscape(A4))\n",
    "\n",
    "# フォントを登録しCanvasに設定 --- (*2)\n",
    "font_size = 15\n",
    "ttf_file = 'ipaexg.ttf'\n",
    "pdfmetrics.registerFont(TTFont('IPAexGothic', ttf_file))\n",
    "cv.setFont('IPAexGothic', font_size)\n",
    "\n",
    "# 文字列を描画する --- (*3)\n",
    "cv.setFillColorRGB(0, 0, 0.4)\n",
    "cv.drawString(140*mm, 60*mm, insert_str1)\n",
    "cv.drawString(140*mm, 50*mm, insert_str2)\n",
    "\n",
    "# 一時ファイルに保存 --- (*4)\n",
    "cv.showPage()\n",
    "cv.save()\n",
    "\n",
    "# テンプレートとなるPDFを読む --- (*5)\n",
    "template_pdf = PdfFileReader(template_file)\n",
    "template_page = template_pdf.getPage(2)\n",
    "\n",
    "# 一時ファイルを読んで合成する --- (*6)\n",
    "tmp_pdf = PdfFileReader(tmp_file)\n",
    "template_page.mergePage(tmp_pdf.getPage(1))\n",
    "\n",
    "# 書き込み先PDFを用意 --- (*7)\n",
    "output = PdfFileWriter()\n",
    "output.addPage(template_page)\n",
    "with open(output_file, \"wb\") as fp:\n",
    "  output.write(fp)"
   ]
  },
  {
   "cell_type": "code",
   "execution_count": 115,
   "metadata": {},
   "outputs": [
    {
     "ename": "IndexError",
     "evalue": "list index out of range",
     "output_type": "error",
     "traceback": [
      "\u001b[0;31m---------------------------------------------------------------------------\u001b[0m",
      "\u001b[0;31mIndexError\u001b[0m                                Traceback (most recent call last)",
      "\u001b[0;32m<ipython-input-115-d7b1f2eaab92>\u001b[0m in \u001b[0;36m<module>\u001b[0;34m\u001b[0m\n\u001b[1;32m     29\u001b[0m     \u001b[0;31m# 一時ファイルを読んで合成する --- (*6)\u001b[0m\u001b[0;34m\u001b[0m\u001b[0;34m\u001b[0m\u001b[0;34m\u001b[0m\u001b[0m\n\u001b[1;32m     30\u001b[0m     \u001b[0mtmp_pdf\u001b[0m \u001b[0;34m=\u001b[0m \u001b[0mPdfFileReader\u001b[0m\u001b[0;34m(\u001b[0m\u001b[0mtmp_file\u001b[0m\u001b[0;34m)\u001b[0m\u001b[0;34m\u001b[0m\u001b[0;34m\u001b[0m\u001b[0m\n\u001b[0;32m---> 31\u001b[0;31m     \u001b[0mtemplate_page\u001b[0m\u001b[0;34m.\u001b[0m\u001b[0mmergePage\u001b[0m\u001b[0;34m(\u001b[0m\u001b[0mtmp_pdf\u001b[0m\u001b[0;34m.\u001b[0m\u001b[0mgetPage\u001b[0m\u001b[0;34m(\u001b[0m\u001b[0mi\u001b[0m\u001b[0;34m)\u001b[0m\u001b[0;34m)\u001b[0m\u001b[0;34m\u001b[0m\u001b[0;34m\u001b[0m\u001b[0m\n\u001b[0m\u001b[1;32m     32\u001b[0m \u001b[0;34m\u001b[0m\u001b[0m\n\u001b[1;32m     33\u001b[0m     \u001b[0;31m# 書き込み先PDFを用意 --- (*7)\u001b[0m\u001b[0;34m\u001b[0m\u001b[0;34m\u001b[0m\u001b[0;34m\u001b[0m\u001b[0m\n",
      "\u001b[0;32m/opt/anaconda3/lib/python3.7/site-packages/PyPDF2/pdf.py\u001b[0m in \u001b[0;36mgetPage\u001b[0;34m(self, pageNumber)\u001b[0m\n\u001b[1;32m   1175\u001b[0m         \u001b[0;32mif\u001b[0m \u001b[0mself\u001b[0m\u001b[0;34m.\u001b[0m\u001b[0mflattenedPages\u001b[0m \u001b[0;34m==\u001b[0m \u001b[0;32mNone\u001b[0m\u001b[0;34m:\u001b[0m\u001b[0;34m\u001b[0m\u001b[0;34m\u001b[0m\u001b[0m\n\u001b[1;32m   1176\u001b[0m             \u001b[0mself\u001b[0m\u001b[0;34m.\u001b[0m\u001b[0m_flatten\u001b[0m\u001b[0;34m(\u001b[0m\u001b[0;34m)\u001b[0m\u001b[0;34m\u001b[0m\u001b[0;34m\u001b[0m\u001b[0m\n\u001b[0;32m-> 1177\u001b[0;31m         \u001b[0;32mreturn\u001b[0m \u001b[0mself\u001b[0m\u001b[0;34m.\u001b[0m\u001b[0mflattenedPages\u001b[0m\u001b[0;34m[\u001b[0m\u001b[0mpageNumber\u001b[0m\u001b[0;34m]\u001b[0m\u001b[0;34m\u001b[0m\u001b[0;34m\u001b[0m\u001b[0m\n\u001b[0m\u001b[1;32m   1178\u001b[0m \u001b[0;34m\u001b[0m\u001b[0m\n\u001b[1;32m   1179\u001b[0m     namedDestinations = property(lambda self:\n",
      "\u001b[0;31mIndexError\u001b[0m: list index out of range"
     ]
    }
   ],
   "source": [
    "# ファイルの指定\n",
    "template_file = 'save.pdf' # 既存のテンプレートPDF\n",
    "output_file = 'output.pdf' # 完成したPDFの保存先\n",
    "tmp_file = 'tmp.pdf' # 一時ファイル\n",
    "\n",
    "for i in range(30):\n",
    "    insert_str1 = \"'{}'さんが\".format(str(return_name(i)))\n",
    "    insert_str2 = \"1週間に来る回数の期待値は'{}回'\".format(str(round(Students_P[i]['Come Up_P'][0]*7)))\n",
    "    \n",
    "    cv = canvas.Canvas(tmp_file, pagesize=landscape(A4))\n",
    "\n",
    "    font_size = 15\n",
    "    ttf_file = 'ipaexg.ttf'\n",
    "    pdfmetrics.registerFont(TTFont('IPAexGothic', ttf_file))\n",
    "    cv.setFont('IPAexGothic', font_size)\n",
    "\n",
    "    cv.setFillColorRGB(0, 0, 0.4)\n",
    "    cv.drawString(140*mm, 60*mm, insert_str1)\n",
    "    cv.drawString(140*mm, 50*mm, insert_str2)\n",
    "\n",
    "    # 一時ファイルに保存 --- (*4)\n",
    "    cv.showPage()\n",
    "    cv.save()\n",
    "\n",
    "    # テンプレートとなるPDFを読む --- (*5)\n",
    "    template_pdf = PdfFileReader(template_file)\n",
    "    template_page = template_pdf.getPage(i)\n",
    "\n",
    "    # 一時ファイルを読んで合成する --- (*6)\n",
    "    tmp_pdf = PdfFileReader(tmp_file)\n",
    "    template_page.mergePage(tmp_pdf.getPage(i))\n",
    "\n",
    "    # 書き込み先PDFを用意 --- (*7)\n",
    "    output = PdfFileWriter()\n",
    "    output.addPage(template_page)\n",
    "\n",
    "\n",
    "with open(output_file, \"wb\") as fp:\n",
    "  output.write(fp)"
   ]
  },
  {
   "cell_type": "code",
   "execution_count": 100,
   "metadata": {},
   "outputs": [],
   "source": [
    "tmp_str = '1週間に来る回数の期待値は\\n'+str(round(Students_P[0]['Come Up_P'][0]*7))"
   ]
  },
  {
   "cell_type": "code",
   "execution_count": 101,
   "metadata": {},
   "outputs": [
    {
     "name": "stdout",
     "output_type": "stream",
     "text": [
      "1週間に来る回数の期待値は\n",
      "2\n"
     ]
    }
   ],
   "source": [
    "print(tmp_str)"
   ]
  },
  {
   "cell_type": "code",
   "execution_count": 108,
   "metadata": {},
   "outputs": [],
   "source": [
    "tmp_str = \"'{}'さんの\\n1週間に来る回数の期待値は{}です\".format(str(return_name(0)),str(round(Students_P[0]['Come Up_P'][0]*7)))"
   ]
  },
  {
   "cell_type": "code",
   "execution_count": 109,
   "metadata": {},
   "outputs": [
    {
     "name": "stdout",
     "output_type": "stream",
     "text": [
      "'いとうあさこ'さんの\n",
      "1週間に来る回数の期待値は2です\n"
     ]
    }
   ],
   "source": [
    "print(tmp_str)"
   ]
  },
  {
   "cell_type": "code",
   "execution_count": 18,
   "metadata": {},
   "outputs": [],
   "source": [
    "def return_name(x):\n",
    "        if x == 0: return  'いとうあさこ'\n",
    "        elif x == 1: return  'イチロー'        \n",
    "        elif x == 2: return  'イモトアヤコ'        \n",
    "        elif x == 3: return  'サンドウィッチマン' \n",
    "        elif x == 4: return  'タモリ'        \n",
    "        elif x == 5: return  'マツコ・デラックス'       \n",
    "        elif x == 6: return  'ローラ'      \n",
    "        elif x == 7: return  '上戸彩'     \n",
    "        elif x == 8: return  '出川哲郎'       \n",
    "        elif x == 9: return  '北川景子'      \n",
    "        elif x == 10: return  '博多華丸・大吉'\n",
    "        elif x == 11: return  '吉田羊'       \n",
    "        elif x == 12: return  '大泉洋'   \n",
    "        elif x == 13: return  '天海祐希' \n",
    "        elif x == 14: return  '宇多田ヒカル' \n",
    "        elif x == 15: return  '山田孝之' \n",
    "        elif x == 16: return  '岡田准一' \n",
    "        elif x == 17: return  '所ジョージ' \n",
    "        elif x == 18: return  '明石家さんま'\n",
    "        elif x == 19: return '浅田真央' \n",
    "        elif x == 20: return  '深田恭子' \n",
    "        elif x == 21: return  '渡辺直美' \n",
    "        elif x == 22: return  '相葉雅紀' \n",
    "        elif x == 23: return  '石原さとみ' \n",
    "        elif x == 24: return  '石田ゆり子' \n",
    "        elif x == 25: return  '福士蒼汰' \n",
    "        elif x == 26: return  '福山雅治' \n",
    "        elif x == 27: return  '米倉涼子' \n",
    "        elif x == 28: return  '綾瀬はるか' \n",
    "        elif x == 29: return  '阿部サダヲ' \n",
    "        elif x == 30: return  '阿部寛' \n",
    "        else: return 100"
   ]
  },
  {
   "cell_type": "code",
   "execution_count": 19,
   "metadata": {},
   "outputs": [
    {
     "data": {
      "text/plain": [
       "'いとうあさこ'"
      ]
     },
     "execution_count": 19,
     "metadata": {},
     "output_type": "execute_result"
    }
   ],
   "source": [
    "return_name(0)"
   ]
  },
  {
   "cell_type": "code",
   "execution_count": null,
   "metadata": {},
   "outputs": [],
   "source": []
  }
 ],
 "metadata": {
  "kernelspec": {
   "display_name": "Python 3",
   "language": "python",
   "name": "python3"
  },
  "language_info": {
   "codemirror_mode": {
    "name": "ipython",
    "version": 3
   },
   "file_extension": ".py",
   "mimetype": "text/x-python",
   "name": "python",
   "nbconvert_exporter": "python",
   "pygments_lexer": "ipython3",
   "version": "3.7.6"
  }
 },
 "nbformat": 4,
 "nbformat_minor": 4
}
